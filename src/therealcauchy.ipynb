{
 "cells": [
  {
   "cell_type": "code",
   "execution_count": 2,
   "metadata": {},
   "outputs": [
    {
     "name": "stderr",
     "output_type": "stream",
     "text": [
      "┌ Info: Precompiling Plots [91a5bcdd-55d7-5caf-9e0b-520d859cae80]\n",
      "└ @ Base loading.jl:1317\n"
     ]
    }
   ],
   "source": [
    "using SymPy\n",
    "using LinearAlgebra\n",
    "using Plots\n",
    "using Combinatorics\n",
    "using TimerOutputs\n",
    "using LowRankApprox"
   ]
  },
  {
   "cell_type": "code",
   "execution_count": 2,
   "metadata": {},
   "outputs": [
    {
     "data": {
      "text/latex": [
       "$\\begin{equation*}r_{2}\\end{equation*}$\n"
      ],
      "text/plain": [
       "r₂"
      ]
     },
     "execution_count": 2,
     "metadata": {},
     "output_type": "execute_result"
    }
   ],
   "source": [
    " x = Sym(\"x\")\n",
    "y = Sym(\"y\")\n",
    "r = Sym(\"r\")\n",
    "r2 = Sym(\"r2\")"
   ]
  },
  {
   "cell_type": "code",
   "execution_count": 3,
   "metadata": {},
   "outputs": [
    {
     "data": {
      "text/plain": [
       "plot_poly (generic function with 2 methods)"
      ]
     },
     "execution_count": 3,
     "metadata": {},
     "output_type": "execute_result"
    }
   ],
   "source": [
    "function plot_poly(poly, a, b, show_true = false)\n",
    "    f = lambdify(poly, [r])\n",
    "    delta=(b-a)/1000\n",
    "    x_vals = collect(a:delta:b)\n",
    "    y_vals = map(f, x_vals)\n",
    "    \n",
    "    g = lambdify(1/(1+x^2), [x])\n",
    "    true_vals = map(g, x_vals)\n",
    "    if show_true\n",
    "        return plot(x_vals, hcat(y_vals, true_vals),  display=true)\n",
    "    else\n",
    "        return plot(x_vals, y_vals,  display=true)\n",
    "    end\n",
    "end\n",
    "\n"
   ]
  },
  {
   "cell_type": "code",
   "execution_count": 4,
   "metadata": {},
   "outputs": [],
   "source": [
    "p_size = 500\n",
    "pij = zeros(Float64, p_size,p_size)\n",
    "pij[1,1] = 1\n",
    "pij[2,2] = 1\n",
    "for i in 3:p_size\n",
    "    for j in 1:i\n",
    "        if j == 1\n",
    "            pij[i,j] = -pij[i-2,j]\n",
    "        else\n",
    "            pij[i,j] = 2pij[i-1,j-1] - pij[i-2,j]\n",
    "        end\n",
    "    end\n",
    "end\n",
    "\n",
    "        \n",
    "            "
   ]
  },
  {
   "cell_type": "code",
   "execution_count": 5,
   "metadata": {},
   "outputs": [
    {
     "data": {
      "text/plain": [
       "cheb_polys (generic function with 1 method)"
      ]
     },
     "execution_count": 5,
     "metadata": {},
     "output_type": "execute_result"
    }
   ],
   "source": [
    "function cheb_polys(degree, b)\n",
    "    polys = []\n",
    "    for n in 0:degree\n",
    "        poly = 0\n",
    "        for k in 0:n\n",
    "            poly += pij[n+1,k+1]*(r/b)^k\n",
    "        end\n",
    "        push!(polys, expand(poly))\n",
    "    end\n",
    "    return polys\n",
    "end"
   ]
  },
  {
   "cell_type": "code",
   "execution_count": 6,
   "metadata": {},
   "outputs": [
    {
     "data": {
      "text/plain": [
       "#101 (generic function with 1 method)"
      ]
     },
     "execution_count": 6,
     "metadata": {},
     "output_type": "execute_result"
    }
   ],
   "source": [
    "function dct(kern, k, b, dct_n)\n",
    "    total = 0\n",
    "#     js = collect(0:N)\n",
    "#     arg1 = kern.(b*cos.(pi*js/N))\n",
    "#     arg2 = cos.(pi*k*js/N)\n",
    "#     total = dot(arg1,arg2) - 0.5(arg1[1]*arg2[1]+arg1[end]*arg2[end])\n",
    "    for j in 0:dct_n\n",
    "        val = kern(b*cos(pi*j/dct_n)) * cos(pi*k*j/dct_n)\n",
    "        if j==0 || j==dct_n\n",
    "                val*=0.5\n",
    "        end\n",
    "        total += val\n",
    "    end\n",
    "    return (2.0/dct_n)*total\n",
    "end\n",
    "\n",
    "dct_n         = 100 # Iterations for discrete cosine transform\n",
    "d             = 3\n",
    "kern          = (1+abs(r))*exp(-abs(r))\n",
    "mat_kern(x,y) = (1+norm(x-y))*exp(-norm(x-y))\n",
    "lkern         = lambdify(kern)\n"
   ]
  },
  {
   "cell_type": "code",
   "execution_count": 7,
   "metadata": {},
   "outputs": [
    {
     "data": {
      "text/plain": [
       "delta (generic function with 1 method)"
      ]
     },
     "execution_count": 7,
     "metadata": {},
     "output_type": "execute_result"
    }
   ],
   "source": [
    "function delta(x,y)\n",
    "    if x==y return 1 else return 0 end\n",
    "end"
   ]
  },
  {
   "cell_type": "code",
   "execution_count": 8,
   "metadata": {},
   "outputs": [
    {
     "data": {
      "text/plain": [
       "transform_coef (generic function with 1 method)"
      ]
     },
     "execution_count": 8,
     "metadata": {},
     "output_type": "execute_result"
    }
   ],
   "source": [
    "\n",
    "function transform_coef(k3, k2, k1, degree, pij, a_vals, b, xp)\n",
    "    tot3 = 0\n",
    "    for i in convert(Int,2k1+2k2+2k3):degree\n",
    "        tot3 +=(pij[i+1, convert(Int, 2k1+2k2+2k3+1)]\n",
    "            *a_vals[i+1]\n",
    "            *(1-delta(0,i)/2))\n",
    "    end\n",
    "    return tot3 * multinomial(xp...)*multinomial([k1,k2,k3]...)*((1.0/b)^(2k1+2k2+2k3))*((-2.0)^k3)\n",
    "end"
   ]
  },
  {
   "cell_type": "code",
   "execution_count": 9,
   "metadata": {},
   "outputs": [],
   "source": [
    "# function get_pole_map(degree, d)\n",
    "#     many_to_idx = Dict()\n",
    "#     count=0\n",
    "#     for k3 in 0:(degree/2)\n",
    "#         for xp in multiexponents(d,convert(Int,k3))   \n",
    "#             for k2 in 0:convert(Int, (floor(degree/2)-k3)) \n",
    "#                 count+=1\n",
    "#                 many_to_idx[k3, xp, k2]=count\n",
    "#             end\n",
    "#         end\n",
    "#     end\n",
    "#     return many_to_idx\n",
    "# end"
   ]
  },
  {
   "cell_type": "code",
   "execution_count": 10,
   "metadata": {},
   "outputs": [],
   "source": [
    "struct fkt_config\n",
    "    fkt_deg::Int\n",
    "    d::Int\n",
    "    b::Float64\n",
    "    dct_n::Int\n",
    "    to::TimerOutput\n",
    "end"
   ]
  },
  {
   "cell_type": "code",
   "execution_count": 45,
   "metadata": {},
   "outputs": [
    {
     "data": {
      "text/plain": [
       "cauchy_fkt (generic function with 1 method)"
      ]
     },
     "execution_count": 45,
     "metadata": {},
     "output_type": "execute_result"
    }
   ],
   "source": [
    "function cauchy_fkt(lkern, x_vecs, y_vecs, truth_mat, fkt_config)\n",
    "    degree = fkt_config.fkt_deg\n",
    "    d      = fkt_config.d\n",
    "    b      = fkt_config.b\n",
    "    dct_n  = fkt_config.dct_n\n",
    "    to     = fkt_config.to\n",
    "    \n",
    "    num_points = length(x_vecs)\n",
    "    pole_count = binomial(convert(Int, floor(degree/2))+d+1,d+1)\n",
    "    a_vals = zeros(degree+1) # kern's coefs in cheb poly basis\n",
    "    for i in 0:(degree)\n",
    "        a_vals[i+1] = dct(lkern, i, b, dct_n)\n",
    "    end\n",
    "    \n",
    "    U_mat = zeros(num_points,pole_count)\n",
    "    U_mat_parts = zeros(degree+1, num_points,pole_count)\n",
    "    V_mat = zeros(pole_count,num_points)\n",
    "    pole_counter=0\n",
    "\n",
    "    @timeit to string(\"fkt, n=\", num_points, \", deg=\", degree) begin\n",
    "        for k3 in 0:convert(Int,(degree/2))\n",
    "            for xp in multiexponents(d,convert(Int,k3))                \n",
    "                for k2 in 0:convert(Int, (floor(degree/2)-k3))\n",
    "                    pole_counter +=1\n",
    "                    @timeit to \"x loop\" begin\n",
    "                    for x_idx in 1:length(x_vecs)\n",
    "                        x_sum = 0  \n",
    "                        for i in convert(Int,2k2+2k3):degree\n",
    "                            tmp = 0\n",
    "                            for k1 in 0:convert(Int, floor(i/2)-k2-k3)\n",
    "#                             tot3 = 0\n",
    "                                tmp +=((norm(x_vecs[x_idx])^(2k1))\n",
    "                                        *prod(x_vecs[x_idx].^(xp))\n",
    "                                        *multinomial(xp...)\n",
    "                                        *pij[i+1, convert(Int, 2k1+2k2+2k3+1)]\n",
    "                                        *(1-delta(0,i)/2)\n",
    "                                        *multinomial([k1,k2,k3]...)\n",
    "                                        *((1.0/b)^(2k1+2k2+2k3))\n",
    "                                        *((-2.0)^k3))\n",
    "                            end\n",
    "                            U_mat_parts[i+1, x_idx, pole_counter] = tmp\n",
    "                            U_mat[x_idx, pole_counter] += a_vals[i+1]*tmp\n",
    "#                             tc = tot3 \n",
    "#                             @timeit to \"tc\" tc=transform_coef(k3, k2, k1, degree, pij, a_vals, b, xp)\n",
    "#                             x_sum +=(norm(x_vecs[x_idx])^(2k1))*tc\n",
    "                        end\n",
    "#                         U_mat[x_idx, pole_counter] = x_sum*prod(x_vecs[x_idx].^(xp))\n",
    "                    end\n",
    "                        end\n",
    "                    @timeit to \"y loop\" begin\n",
    "                        for y_idx in 1:length(y_vecs)\n",
    "                            V_mat[pole_counter, y_idx] = ((norm(y_vecs[y_idx])^(2k2))*prod(y_vecs[y_idx].^(xp)))\n",
    "                        end\n",
    "                    end\n",
    "                end\n",
    "            end\n",
    "        end\n",
    "    end\n",
    "    guess = U_mat*V_mat\n",
    "    error = norm(guess-truth_mat)/norm(truth_mat)    \n",
    "    \n",
    "    idf = idfact(transpose(V_mat), rtol = 1e-6)\n",
    "#     approx_mat[:, idf.sk] .= truth_mat[:, idf.sk]\n",
    "    println(size(V_mat,1), \" \", size(V_mat, 2))\n",
    "    println(length(idf.sk))\n",
    "    println(idf.sk)\n",
    "    for i in 1:length(idf.sk)\n",
    "        println(norm(V_mat[idf.sk[i], :]))\n",
    "    end\n",
    "    \n",
    "    \n",
    "#     println(\"\\n\\nSTATS\")\n",
    "#     println(\"guess mat rank \", rank(guess, rtol=1e-6))\n",
    "#     println(\"u_mat width \", size(U_mat, 2))\n",
    "#     println(\"u mat rank \", rank(U_mat, rtol=1e-6))\n",
    "#     println(\"v mat rank \", rank(V_mat, rtol=1e-6))\n",
    "#     for i in 0:degree\n",
    "#         println(i)\n",
    "#         println(\"u mat part rank \", rank(U_mat_parts[i+1, :, :], rtol=1e-6))\n",
    "#         println(\"uv mat part rank \", rank(U_mat_parts[i+1, :, :]*V_mat, rtol=1e-6))\n",
    "        \n",
    "#     end\n",
    "    #     push!(errors, norm(guess-truth_mat)/norm(truth_mat))\n",
    "# #     guess_arr = []\n",
    "# #     for (x_idx, x_vec) in enumerate(x_vecs)\n",
    "# #         for (y_idx, y_vec) in enumerate(y_vecs)\n",
    "# #             push!(guess_arr, guess[x_idx, y_idx])\n",
    "# #         end\n",
    "# #     end\n",
    "# #     push!(guesses, guess_arr)\n",
    "# #     println(\"Guess mat actual rank is \", rank(guess, rtol=1e-6))\n",
    "# #     println(\"U is \", size(U_mat), \" rank is \", rank(U_mat, rtol=1e-6))\n",
    "# #     println(\"V is \", size(V_mat), \" rank is \", rank(V_mat, rtol=1e-6))\n",
    "# #     push!(U_mats, U_mat)\n",
    "# #     push!(V_mats, V_mat)\n",
    "# #     test_guess = U_mat*(V_mat*test_vec)\n",
    "# #     push!(errors, norm(test_guess-test_truth)/norm(test_truth))\n",
    "\n",
    "# #     for i in 1:size(truth_mat, 1)\n",
    "# #         guess[i,i] = truth_mat[i,i]\n",
    "# #     end\n",
    "# #     test_guess =guess*test_vec\n",
    "# #     push!(adj_errors,  norm(test_guess-test_truth)/norm(test_truth))\n",
    "    return U_mat, V_mat, error\n",
    "end"
   ]
  },
  {
   "cell_type": "markdown",
   "metadata": {},
   "source": [
    "# Varying N"
   ]
  },
  {
   "cell_type": "code",
   "execution_count": 32,
   "metadata": {},
   "outputs": [
    {
     "name": "stdout",
     "output_type": "stream",
     "text": [
      "[0, 0, 0]\n"
     ]
    }
   ],
   "source": [
    "for y in  multiexponents(3,0)\n",
    "#     if y == zeros(3)\n",
    "        println(y)\n",
    "#     end\n",
    "end\n"
   ]
  },
  {
   "cell_type": "code",
   "execution_count": null,
   "metadata": {},
   "outputs": [],
   "source": [
    "to      = TimerOutput()\n",
    "idto    = TimerOutput()\n",
    "iderrs  = []\n",
    "fkterrs = []\n",
    "ranks   = []\n",
    "\n",
    "fkt_deg = 6\n",
    "point_range = collect(1000:2000:10000)\n",
    "for num_points in point_range\n",
    "    println(num_points)\n",
    "    x_vecs = [randn(d)./8 for _ in 1:num_points]\n",
    "    y_vecs = [randn(d)./8 for _ in 1:num_points]\n",
    "    max_norm = max(maximum(norm.(x_vecs)), maximum(norm.(y_vecs)))\n",
    "    truth_mat  = mat_kern.(x_vecs, permutedims(y_vecs))\n",
    "    cfg = fkt_config(fkt_deg, d, 2max_norm, dct_n, to)\n",
    "    umat, vmat, err = cauchy_fkt(lkern, x_vecs, y_vecs,truth_mat, cfg)\n",
    "    push!(fkterrs, err)\n",
    "    \n",
    "    r = size(umat, 2)\n",
    "    push!(ranks, r)\n",
    "    @timeit idto string(\"n=\",num_points) idf = idfact(truth_mat, rank = r)\n",
    "    approx_mat = deepcopy(truth_mat)\n",
    "#     approx_mat[:, idf.sk] .= truth_mat[:, idf.sk]\n",
    "    approx_mat[:, idf.rd] .= truth_mat[:, idf.sk]*idf.T\n",
    "    push!(iderrs, (norm(approx_mat - truth_mat))/norm(truth_mat))\n",
    "end\n",
    "\n",
    "# test_vec   = randn(num_points)\n",
    "# test_truth = truth_mat*test_vec\n",
    "# truth_vec = []\n",
    "# r_vec     = []\n",
    "# for (x_idx, x_vec) in enumerate(x_vecs)\n",
    "#     for (y_idx, y_vec) in enumerate(y_vecs)\n",
    "#         push!(truth_vec, truth_mat[x_idx, y_idx])\n",
    "#         push!(r_vec, norm(x_vec-y_vec))\n",
    "#     end\n",
    "# end\n",
    "# errors     = []\n",
    "# adj_errors = []\n",
    "# ranks      = []\n",
    "# guesses    = []\n",
    "# U_mats = []\n",
    "# V_mats = []"
   ]
  },
  {
   "cell_type": "code",
   "execution_count": null,
   "metadata": {},
   "outputs": [],
   "source": [
    "println(fkterrs)"
   ]
  },
  {
   "cell_type": "code",
   "execution_count": null,
   "metadata": {},
   "outputs": [],
   "source": [
    "# plot(point_range, fkterrs, yaxis=:log, label=\"fkt\")\n",
    "# # plot!(ranks, adj_errors, yaxis=:log, label=\"adjfkt\")\n",
    "# plot!(point_range, iderrs, yaxis=:log, label=\"id\", xlabel=\"Rank\", ylabel=\"Relative error\")\n"
   ]
  },
  {
   "cell_type": "code",
   "execution_count": null,
   "metadata": {},
   "outputs": [],
   "source": [
    "fkt_times = [TimerOutputs.time(to[string(\"fkt, n=\", range, \", deg=\", fkt_deg)])/(10^9) for range in point_range]\n",
    "id_times = [TimerOutputs.time(idto[string(\"n=\", range)])/(10^9) for range in point_range]\n",
    "plot(point_range, fkt_times,  label=\"fkt\")\n",
    "# plot!(ranks, adj_errors, yaxis=:log, label=\"adjfkt\")\n",
    "plot!(point_range, id_times,  label=\"id\", xlabel=\"Num points\", ylabel=\"Time (s)\")\n"
   ]
  },
  {
   "cell_type": "markdown",
   "metadata": {},
   "source": [
    "# Varying degree"
   ]
  },
  {
   "cell_type": "code",
   "execution_count": 46,
   "metadata": {},
   "outputs": [
    {
     "name": "stdout",
     "output_type": "stream",
     "text": [
      "14\n",
      "330 2000\n",
      "105\n",
      "[1, 23, 16, 9, 2, 60, 42, 54, 36, 30, 24, 10, 17, 66, 111, 96, 3, 76, 71, 91, 86, 172, 43, 116, 156, 55, 37, 124, 160, 25, 49, 140, 11, 168, 61, 18, 120, 144, 236, 176, 221, 4, 182, 233, 179, 82, 87, 102, 218, 224, 185, 194, 293, 56, 188, 117, 44, 212, 72, 281, 197, 215, 38, 50, 279, 26, 283, 12, 243, 239, 19, 241, 291, 269, 289, 259, 129, 149, 145, 330, 247, 271, 323, 267, 5, 265, 295, 273, 133, 275, 255, 322, 108, 103, 68, 88, 297, 296, 329, 207, 324, 113, 325, 83, 33]\n",
      "44.721359549995796\n",
      "5.654108281667178\n",
      "5.637353725549871\n",
      "5.606293954651411\n",
      "2.7612462231351325\n",
      "1.2742617144340749\n",
      "0.7348837851427766\n",
      "0.7206809883893169\n",
      "0.6937640930450275\n",
      "1.2248685380992557\n",
      "0.562128576163077\n",
      "0.5342965996764613\n",
      "0.5053884402406488\n",
      "0.34232305797008444\n",
      "0.3711675689911134\n",
      "0.3154230395872095\n",
      "0.34884961299478306\n",
      "0.1673804887022388\n",
      "0.15224872773608347\n",
      "0.16758429945600067\n",
      "0.09282951901578396\n",
      "0.12561439725389276\n",
      "0.09892026102643996\n",
      "0.11035056704607492\n",
      "0.09571964377653952\n",
      "0.09276081592708722\n",
      "0.08470110146855772\n",
      "0.04792027458921843\n",
      "0.04105511221465081\n",
      "0.09147731712423972\n",
      "0.13451743038429453\n",
      "0.0364980890432513\n",
      "0.08202939152336045\n",
      "0.04846677589640553\n",
      "0.169789380331879\n",
      "0.07282090564029567\n",
      "0.04215416091965503\n",
      "0.01918924351311245\n",
      "0.04666811976865181\n",
      "0.038838137783239385\n",
      "0.0316240458345866\n",
      "0.062174105594850745\n",
      "0.015559822207896652\n",
      "0.01696368753318321\n",
      "0.013375372135841682\n",
      "0.019963442331191995\n",
      "0.015472081017334875\n",
      "0.02298017297797608\n",
      "0.01639441292463291\n",
      "0.012252723846025522\n",
      "0.00819570283314882\n",
      "0.007604442797535324\n",
      "0.01839473232216196\n",
      "0.017593841320483253\n",
      "0.006331111221395228\n",
      "0.018371489001088585\n",
      "0.01845873304821654\n",
      "0.004574636443295128\n",
      "0.022701850870074175\n",
      "0.011015872502745572\n",
      "0.004388056291170963\n",
      "0.006714553113159952\n",
      "0.014437579454881057\n",
      "0.020660824719407188\n",
      "0.005977159098394519\n",
      "0.019220925422645748\n",
      "0.003937856903203333\n",
      "0.015764513232743655\n",
      "0.0054645499340561406\n",
      "0.01445874550861475\n",
      "0.013692580219641965\n",
      "0.0046604721917963355\n",
      "0.0064884611083200995\n",
      "0.0033121380010853367\n",
      "0.003871903108331576\n",
      "0.002113939219810557\n",
      "0.0049167271313141124\n",
      "0.0044947608301319835\n",
      "0.003494114733908291\n",
      "0.007532472911373122\n",
      "0.002056721010192733\n",
      "0.0013139380008741254\n",
      "0.00396996899191765\n",
      "0.003397907612132556\n",
      "0.013451284989187628\n",
      "0.0015290786029252892\n",
      "0.005586412136570991\n",
      "0.0011097439905660914\n",
      "0.004122814014270953\n",
      "0.0014779860874262222\n",
      "0.0014376313819273458\n",
      "0.0022994470890055976\n",
      "0.006195279143608458\n",
      "0.00454928088153638\n",
      "0.009375596892457474\n",
      "0.003342313021927035\n",
      "0.0020225171339734766\n",
      "0.0017347640778005112\n",
      "0.002610800769300504\n",
      "0.0016820831160148095\n",
      "0.0013286213556467175\n",
      "0.012431051635646683\n",
      "0.0007602190813861846\n",
      "0.003496212725300087\n",
      "0.005251449699492224\n"
     ]
    }
   ],
   "source": [
    "to      = TimerOutput()\n",
    "idto    = TimerOutput()\n",
    "iderrs  = []\n",
    "fkterrs = []\n",
    "ranks   = []\n",
    "\n",
    "# fkt_deg = 6\n",
    "num_points = 2000\n",
    "# x_vecs = [randn(d)./8 for _ in 1:num_points]\n",
    "# y_vecs = [randn(d)./8 for _ in 1:num_points]\n",
    "# max_norm = max(maximum(norm.(x_vecs)), maximum(norm.(y_vecs)))\n",
    "# truth_mat  = mat_kern.(x_vecs, permutedims(y_vecs))\n",
    "\n",
    "x_vecs = [randn(d)./8 for _ in 1:num_points]\n",
    "# y_vecs = [randn(d)./8 for _ in 1:num_points]\n",
    "max_norm = max(maximum(norm.(x_vecs)), maximum(norm.(x_vecs)))\n",
    "truth_mat  = mat_kern.(x_vecs, permutedims(x_vecs))\n",
    "\n",
    "# for fkt_deg in 2:2:14\n",
    "umat = []\n",
    "vmat = []\n",
    "for fkt_deg in [14]\n",
    "    println(fkt_deg)\n",
    "    cfg = fkt_config(fkt_deg, d, 2max_norm, dct_n, to)\n",
    "    umat, vmat, err = cauchy_fkt(lkern, x_vecs, x_vecs, truth_mat, cfg)\n",
    "    push!(fkterrs, err)\n",
    "    \n",
    "    r = size(umat, 2)\n",
    "    push!(ranks, r)\n",
    "    @timeit idto string(\"n=\",num_points, \", deg=\", fkt_deg) idf = idfact(truth_mat, rank = r)\n",
    "    approx_mat = deepcopy(truth_mat)\n",
    "#     approx_mat[:, idf.sk] .= truth_mat[:, idf.sk]\n",
    "    approx_mat[:, idf.rd] .= truth_mat[:, idf.sk]*idf.T\n",
    "    push!(iderrs, (norm(approx_mat - truth_mat))/norm(truth_mat))\n",
    "end"
   ]
  },
  {
   "cell_type": "code",
   "execution_count": 26,
   "metadata": {},
   "outputs": [
    {
     "name": "stdout",
     "output_type": "stream",
     "text": [
      "Error 5.216700549952521e-5\n"
     ]
    }
   ],
   "source": [
    "# a_vals = zeros(12+1) # kern's coefs in cheb poly basis\n",
    "# for i in 0:(12)\n",
    "#     a_vals[i+1] = dct(lkern, i, 2max_norm, dct_n)\n",
    "# end\n",
    "# a_vals\n",
    "test_vec = randn(size(truth_mat,1))\n",
    "guess_vec = umat*vmat*test_vec\n",
    "truth_vec = truth_mat*test_vec\n",
    "println(\"Error \", norm(guess_vec-truth_vec)/norm(truth_vec))\n",
    "# gsvd = svdvals(guess)\n",
    "# tsvd = svdvals(truth_mat)\n",
    "# plot(1:length(gsvd), gsvd, yscale = :log10)\n",
    "# plot!(1:length(tsvd), tsvd, yscale = :log10)\n"
   ]
  },
  {
   "cell_type": "code",
   "execution_count": 27,
   "metadata": {},
   "outputs": [
    {
     "name": "stdout",
     "output_type": "stream",
     "text": [
      "Error 8.400717486373816e-5\n"
     ]
    }
   ],
   "source": [
    "guess = umat*vmat\n",
    "for i in 1:size(guess,1)\n",
    "    guess[i,i] = truth_mat[i,i]\n",
    "end\n",
    "test_vec = randn(size(truth_mat,1))\n",
    "guess_vec = guess*test_vec\n",
    "truth_vec = truth_mat*test_vec\n",
    "println(\"Error \", norm(guess_vec-truth_vec)/norm(truth_vec))\n"
   ]
  },
  {
   "cell_type": "code",
   "execution_count": 16,
   "metadata": {},
   "outputs": [
    {
     "data": {
      "text/plain": [
       "2000-element Vector{Float64}:\n",
       " 1926.4666135037698\n",
       "   22.304912127827567\n",
       "   21.806983635256827\n",
       "   21.30256136215557\n",
       "    1.6925595976972194\n",
       "    0.868895207924722\n",
       "    0.8402025395459152\n",
       "    0.8346407474163089\n",
       "    0.8153894574599159\n",
       "    0.7909322032425686\n",
       "    0.2538441911784699\n",
       "    0.23356852985033616\n",
       "    0.2263707422877834\n",
       "    ⋮\n",
       "    1.7247666901504095e-16\n",
       "    1.574455075500982e-16\n",
       "    1.4385508540647508e-16\n",
       "    1.3795436288167145e-16\n",
       "    1.2657000495088116e-16\n",
       "    9.901882101908024e-17\n",
       "    8.145293378519483e-17\n",
       "    7.202321649464876e-17\n",
       "    5.426500632797803e-17\n",
       "    3.1547212538765665e-17\n",
       "    1.204382336404685e-17\n",
       "    5.968493253676047e-18"
      ]
     },
     "execution_count": 16,
     "metadata": {},
     "output_type": "execute_result"
    }
   ],
   "source": [
    "guesssvd"
   ]
  },
  {
   "cell_type": "code",
   "execution_count": null,
   "metadata": {
    "scrolled": false
   },
   "outputs": [],
   "source": [
    "fkt_times = [TimerOutputs.time(to[string(\"fkt, n=5000, deg=\",fkt_deg)])/(10^9) for fkt_deg in 2:2:14]\n",
    "id_times = [TimerOutputs.time(idto[string(\"n=5000, deg=\", fkt_deg)])/(10^9) for fkt_deg in 2:2:14]\n",
    "plot(ranks, fkt_times,  label=\"fkt\")\n",
    "# plot!(ranks, adj_errors, yaxis=:log, label=\"adjfkt\")\n",
    "plot!(ranks, id_times,  label=\"id\", xlabel=\"Rank\", ylabel=\"Time (s)\")\n"
   ]
  },
  {
   "cell_type": "code",
   "execution_count": null,
   "metadata": {},
   "outputs": [],
   "source": [
    "plot(ranks, fkterrs, yscale=:log10, label=\"fkt\")\n",
    "plot!(ranks, iderrs, yscale=:log10, label=\"id\", xlabel=\"Rank\", ylabel=\"Relative error (frob)\")\n"
   ]
  },
  {
   "cell_type": "code",
   "execution_count": null,
   "metadata": {},
   "outputs": [],
   "source": [
    "# So most rs are in 0-0.75, yet our polys are -1 to 1 ish. \n",
    "# Error in exp peaks around same as histogram >:|\n",
    "histogram(r_vec, xlabel=\"r\")"
   ]
  },
  {
   "cell_type": "code",
   "execution_count": null,
   "metadata": {
    "scrolled": true
   },
   "outputs": [],
   "source": [
    "plt = nothing\n",
    "stride = 1000\n",
    "for k in 5:length(guesses)\n",
    "    errs = [guess[1:stride:length(guess)] - truth_vec[1:stride:length(guess)] for guess in [guesses[k]]]\n",
    "    gs = [guess[1:stride:length(guess)] for guess in [guesses[k]]]\n",
    "    truths = [truth_vec[1:stride:length(guess)] for guess in [guesses[k]]]\n",
    "    if k==5\n",
    "        plt=scatter([r_vec[1:stride:length(r_vec)]],errs, label=k)\n",
    "#         plt=scatter([r_vec[1:stride:length(r_vec)]],gs, label=k)\n",
    "#         plt=scatter!([r_vec[1:stride:length(r_vec)]],truths, label=k)\n",
    "    else\n",
    "        plt=scatter!([r_vec[1:stride:length(r_vec)]],errs, label=k)\n",
    "\n",
    "#         plt=scatter!([r_vec[1:stride:length(r_vec)]],gs, label=k)\n",
    "#         plt=scatter!([r_vec[1:stride:length(r_vec)]],truths, label=k)\n",
    "    end\n",
    "end\n",
    "plt\n",
    "# plt=plot!([r_vec[1:stride:length(r_vec)]],zeros(length(1:stride:length(r_vec))), label=0)\n"
   ]
  },
  {
   "cell_type": "code",
   "execution_count": null,
   "metadata": {},
   "outputs": [],
   "source": [
    "# try diagonal or sparse correction\n",
    "# issue - the matrix is low rank, diagonal correction doesn't actually help much \n",
    "\n",
    "# QR with polys in chebfun, get error, truncate"
   ]
  },
  {
   "cell_type": "code",
   "execution_count": null,
   "metadata": {},
   "outputs": [],
   "source": [
    "plot(ranks, errors, yaxis=:log, label=\"fkt\")\n",
    "plot!(ranks, svd_errs, yaxis=:log, label=\"svd\")\n",
    "plot!(idranks, iderrs, yaxis=:log, label=\"id\")\n"
   ]
  },
  {
   "cell_type": "code",
   "execution_count": null,
   "metadata": {},
   "outputs": [],
   "source": [
    "####################################################################################################\n",
    "####################################################################################################\n",
    "####################################################################################################\n",
    "####################################################################################################\n",
    "####################################################################################################\n",
    "# function gen_binom(n, k)\n",
    "#     numer = prod([Rational{BigInt}(n)-i for i in 0:(k-1)])\n",
    "#     denom = factorial(big(k))\n",
    "#     return numer//denom\n",
    "# end\n",
    "# function init_P_mat(degree)\n",
    "#     P = Matrix(undef, degree+1, degree+1)\n",
    "#     for i in 0:degree\n",
    "#         for j in 0:degree\n",
    "#             P[1+i, 1+j] = 2^i*binomial(i,j)*gen_binom((i+j-1)//2,i)\n",
    "#         end\n",
    "#     end\n",
    "#     return P\n",
    "# end\n",
    "# function init_B_mat(a,b, degree)\n",
    "#     B = Matrix(undef, degree+1, degree+1)\n",
    "#     for i in 0:degree\n",
    "#         for j in 0:degree\n",
    "#             if abs(a)==abs(b) && j!=i\n",
    "#                 B[1+i, 1+j] =0\n",
    "#             else\n",
    "#                 B[1+i, 1+j] = (2/(b-a))^j*(-((2a/(b-a))+1))^(i-j)*binomial(i,j)\n",
    "#             end\n",
    "#         end\n",
    "#     end\n",
    "#     return B\n",
    "# end\n",
    "\n"
   ]
  }
 ],
 "metadata": {
  "@webio": {
   "lastCommId": null,
   "lastKernelId": null
  },
  "kernelspec": {
   "display_name": "Julia 1.6.1",
   "language": "julia",
   "name": "julia-1.6"
  },
  "language_info": {
   "file_extension": ".jl",
   "mimetype": "application/julia",
   "name": "julia",
   "version": "1.6.1"
  }
 },
 "nbformat": 4,
 "nbformat_minor": 4
}
