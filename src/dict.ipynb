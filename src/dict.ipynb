{
 "cells": [
  {
   "cell_type": "code",
   "execution_count": 2,
   "id": "97bb5482",
   "metadata": {},
   "outputs": [],
   "source": [
    "import Pkg\n",
    "cd(\"../\")\n",
    "Pkg.activate(\".\")"
   ]
  },
  {
   "cell_type": "code",
   "execution_count": 3,
   "id": "6aedb142",
   "metadata": {
    "scrolled": true
   },
   "outputs": [
    {
     "name": "stderr",
     "output_type": "stream",
     "text": [
      "┌ Info: Precompiling FKTcheb [8f6a1ce6-3be6-48da-82a4-714bd5a66102]\n",
      "└ @ Base loading.jl:1317\n",
      "\u001b[33m\u001b[1m┌ \u001b[22m\u001b[39m\u001b[33m\u001b[1mWarning: \u001b[22m\u001b[39mPackage FKTcheb does not have Plots in its dependencies:\n",
      "\u001b[33m\u001b[1m│ \u001b[22m\u001b[39m- If you have FKTcheb checked out for development and have\n",
      "\u001b[33m\u001b[1m│ \u001b[22m\u001b[39m  added Plots as a dependency but haven't updated your primary\n",
      "\u001b[33m\u001b[1m│ \u001b[22m\u001b[39m  environment's manifest file, try `Pkg.resolve()`.\n",
      "\u001b[33m\u001b[1m│ \u001b[22m\u001b[39m- Otherwise you may need to report an issue with FKTcheb\n",
      "\u001b[33m\u001b[1m└ \u001b[22m\u001b[39mLoading Plots into FKTcheb from project dependency, future warnings for FKTcheb are suppressed.\n"
     ]
    }
   ],
   "source": [
    "using FKTcheb\n",
    "using SymPy\n",
    "using TimerOutputs\n",
    "using LinearAlgebra\n",
    "using LowRankApprox\n",
    "using Printf\n",
    "using Random\n",
    "using Plots\n",
    "using Distributions\n",
    "using StaticArrays\n",
    "using Polynomials\n",
    "using SpecialFunctions\n",
    "using Combinatorics\n",
    "using LaTeXStrings"
   ]
  },
  {
   "cell_type": "code",
   "execution_count": 4,
   "id": "b075700c",
   "metadata": {},
   "outputs": [
    {
     "data": {
      "text/plain": [
       "hypospherical (generic function with 1 method)"
      ]
     },
     "execution_count": 4,
     "metadata": {},
     "output_type": "execute_result"
    }
   ],
   "source": [
    "include(\"src/factor.jl\")\n",
    "include(\"src/util.jl\")\n",
    "include(\"src/gegenbauer.jl\")\n",
    "include(\"src/hyperspherical.jl\")"
   ]
  },
  {
   "cell_type": "code",
   "execution_count": 5,
   "id": "3d84be5c",
   "metadata": {},
   "outputs": [
    {
     "data": {
      "text/plain": [
       "\u001b[0m\u001b[1m ──────────────────────────────────────────────────────────────────\u001b[22m\n",
       "\u001b[0m\u001b[1m                   \u001b[22m        Time                   Allocations      \n",
       "                   ──────────────────────   ───────────────────────\n",
       " Tot / % measured:      512ms / 0.00%           55.5MiB / 0.00%    \n",
       "\n",
       " Section   ncalls     time   %tot     avg     alloc   %tot      avg\n",
       " ──────────────────────────────────────────────────────────────────\n",
       "\u001b[0m\u001b[1m ──────────────────────────────────────────────────────────────────\u001b[22m"
      ]
     },
     "execution_count": 5,
     "metadata": {},
     "output_type": "execute_result"
    }
   ],
   "source": [
    "r = Sym(\"r\")\n",
    "spread_param = 6\n",
    "dct_n         = 100 # Iterations for discrete cosine transform\n",
    "kern          = 1 / (1+r^2)\n",
    "mat_kern(x,y) = 1 / (1+norm(x-y)^2)\n",
    "lkern         = lambdify(kern)\n",
    "to            = TimerOutput()\n"
   ]
  },
  {
   "cell_type": "code",
   "execution_count": 6,
   "id": "22b1fa92",
   "metadata": {},
   "outputs": [
    {
     "data": {
      "text/plain": [
       "Dict{Any, Any}()"
      ]
     },
     "execution_count": 6,
     "metadata": {},
     "output_type": "execute_result"
    }
   ],
   "source": [
    "timing_results = Dict()\n"
   ]
  },
  {
   "cell_type": "code",
   "execution_count": null,
   "id": "9548f322",
   "metadata": {
    "scrolled": true
   },
   "outputs": [],
   "source": [
    "for num_points in 100_000:225_000:1_000_000\n",
    "    random_samp = randperm(num_points)[1:1000]\n",
    "    for d in 3:4:15\n",
    "        x_vecs = [randn(d) / spread_param for _ in 1:num_points]\n",
    "        mn = maximum(norm.(x_vecs))\n",
    "        for i in 1:length(x_vecs)\n",
    "            x_vecs[i] /= mn\n",
    "        end\n",
    "        truth_mat  = mat_kern.(x_vecs[random_samp], permutedims(x_vecs[random_samp]))\n",
    "        truemat_frobnorm = norm(truth_mat)\n",
    "        for err_tol_pow in 2\n",
    "            GC.gc()\n",
    "            err_tol = (1e-3)*(2^err_tol_pow)\n",
    "            best_deg = guess_fkt_err(lkern, x_vecs, dct_n, err_tol)\n",
    "            cfg = fkt_config(best_deg, d, dct_n, to, err_tol)\n",
    "            fkt_t = 0\n",
    "            U_mat=0\n",
    "            for k in 1:3\n",
    "                fkt_t += @elapsed U_mat = degen_kern_harmonic(lkern, x_vecs, cfg)\n",
    "            end\n",
    "            fkt_t/=3\n",
    "            V_mat = transpose(U_mat)\n",
    "            fkt_rank = size(U_mat, 2)\n",
    "\n",
    "            fkt_guess = U_mat[random_samp,:]*V_mat[:, random_samp]\n",
    "            fkt_err = (norm(fkt_guess-truth_mat)\n",
    "                            /truemat_frobnorm)\n",
    "            timing_results[(num_points, d, err_tol)] = (fkt_t, fkt_rank, fkt_err)\n",
    "        end\n",
    "    end\n",
    "end\n",
    "\n"
   ]
  },
  {
   "cell_type": "code",
   "execution_count": null,
   "id": "ee126878",
   "metadata": {
    "scrolled": false
   },
   "outputs": [],
   "source": [
    "ns = collect(100_000:225_000:1_000_000)\n",
    "all_times = []\n",
    "err_tol_pow = 2\n",
    "err_tol = (1e-3)*(2^err_tol_pow)\n",
    "for d in 3:4:15\n",
    "    times = []\n",
    "    for n in ns\n",
    "        push!(times, timing_results[(n, d, err_tol)][1])\n",
    "        println(timing_results[(n, d, err_tol)])\n",
    "    end\n",
    "    push!(all_times, times)\n",
    "end\n",
    "p = plot(thickness_scaling = 1.25, xlabel=\"N\", ylabel=\"Time\")\n",
    "for k in 1:length(all_times)\n",
    "    p=plot!(ns, all_times[k], label=string(\"d=\",4k-1),  xaxis=:log10, xlim=(8e4, 1.5e6),\n",
    "        yaxis=:log10, ylim=(3e-2, 9e1), legend=:topleft, linewidth=3)\n",
    "end\n",
    "p=plot!(ns, 0.0000006ns, label=L\"$$t\\sim N$$\", linewidth=3, linestyle=:dash) # dotted guidelines\n",
    "p=plot!(ns, 0.00000000008ns.^2, label=L\"$$t\\sim N^2$$\", linewidth=3, linestyle=:dash)\n",
    "p\n",
    "\n",
    "# one single dataset, different subsets into it. "
   ]
  },
  {
   "cell_type": "code",
   "execution_count": null,
   "id": "e25174c7",
   "metadata": {},
   "outputs": [],
   "source": []
  },
  {
   "cell_type": "code",
   "execution_count": 7,
   "id": "92c78bc5",
   "metadata": {},
   "outputs": [
    {
     "data": {
      "text/plain": [
       "Dict{Any, Any}()"
      ]
     },
     "execution_count": 7,
     "metadata": {},
     "output_type": "execute_result"
    }
   ],
   "source": [
    "err_results = Dict()"
   ]
  },
  {
   "cell_type": "code",
   "execution_count": null,
   "id": "530fc77c",
   "metadata": {},
   "outputs": [
    {
     "name": "stdout",
     "output_type": "stream",
     "text": [
      "Using interval [0,1.9996754182730523]\n",
      "16\n",
      "8 orders needed\n",
      "8 orders needed\n",
      "8 orders needed\n",
      "Using interval [0,1.9996754182730523]\n",
      "16\n",
      "8 orders needed\n",
      "8 orders needed\n",
      "8 orders needed\n",
      "Using interval [0,1.9996754182730523]\n",
      "14\n",
      "7 orders needed\n",
      "7 orders needed\n",
      "7 orders needed\n",
      "Using interval [0,1.9996754182730523]\n",
      "12\n",
      "6 orders needed\n",
      "6 orders needed\n",
      "6 orders needed\n",
      "Using interval [0,1.9996754182730523]\n",
      "10\n",
      "5 orders needed\n",
      "5 orders needed\n",
      "5 orders needed\n",
      "Using interval [0,2.0004497181644405]\n",
      "16\n",
      "8"
     ]
    }
   ],
   "source": [
    "for num_points in 1_000_000\n",
    "    random_samp = randperm(num_points)[1:1000]\n",
    "    for d in 3:4:15\n",
    "        x_vecs = [randn(d) / spread_param for _ in 1:num_points]\n",
    "        mn = maximum(norm.(x_vecs))\n",
    "        for i in 1:length(x_vecs)\n",
    "            x_vecs[i] /= mn\n",
    "        end\n",
    "        truth_mat  = mat_kern.(x_vecs[random_samp], permutedims(x_vecs[random_samp]))\n",
    "        truemat_frobnorm = norm(truth_mat)\n",
    "        for err_tol_pow in 5:9\n",
    "            if d > 3 && err_tol_pow < 5 continue end\n",
    "            GC.gc()\n",
    "            err_tol = (1e-5)*(2.0^err_tol_pow)\n",
    "            best_deg = guess_fkt_err(lkern, x_vecs, dct_n, err_tol)\n",
    "            println(best_deg)\n",
    "            cfg = fkt_config(best_deg, d, dct_n, to, err_tol)\n",
    "            fkt_t = 0\n",
    "            fkt_err = 0\n",
    "            fkt_rank = 0\n",
    "            mv_time = 0\n",
    "            for k in 1:3\n",
    "                fkt_t += @elapsed U_mat, diag_mat = degen_kern_harmonic(lkern, x_vecs, cfg)\n",
    "                fkt_rank += size(U_mat, 2)\n",
    "                sampmat = U_mat[random_samp,:]\n",
    "                fkt_guess = sampmat*diagm(diag_mat)*transpose(sampmat)\n",
    "                fkt_err += (norm(fkt_guess-truth_mat)\n",
    "                                /truemat_frobnorm)\n",
    "                mv_time += @elapsed res = U_mat*(diagm(diag_mat)*(transpose(U_mat)*rand(size(U_mat, 1))))\n",
    "            end\n",
    "            fkt_t/=3\n",
    "            fkt_rank /= 3\n",
    "            fkt_err /= 3\n",
    "            mv_time /=3\n",
    "            err_results[(num_points, d, err_tol)] = (fkt_t, fkt_rank, fkt_err, mv_time)\n",
    "        end\n",
    "    end\n",
    "end\n",
    "\n"
   ]
  },
  {
   "cell_type": "code",
   "execution_count": null,
   "id": "3a628a08",
   "metadata": {},
   "outputs": [],
   "source": []
  },
  {
   "cell_type": "code",
   "execution_count": null,
   "id": "d2a55d56",
   "metadata": {},
   "outputs": [],
   "source": [
    "num_points = 1_000_000\n",
    "d_to_nystrom_times = Dict()\n",
    "d_to_nystrom_ranks = Dict()\n",
    "d_to_nystrom_errs = Dict()\n",
    "d_to_nystrom_mv_times = Dict()\n",
    "for d in 3:4:15\n",
    "    nystrom_times = []\n",
    "    nystrom_ranks = []\n",
    "    nystrom_errs  = []\n",
    "    nystrom_mv_times = []\n",
    "\n",
    "    random_samp = randperm(num_points)[1:1000]\n",
    "    x_vecs = [randn(d) / spread_param for _ in 1:num_points]\n",
    "    mn = maximum(norm.(x_vecs))\n",
    "    for i in 1:length(x_vecs)\n",
    "        x_vecs[i] /= mn\n",
    "    end    \n",
    "    truth_mat  = mat_kern.(x_vecs[random_samp], permutedims(x_vecs[random_samp]))\n",
    "    truemat_frobnorm = norm(truth_mat)\n",
    "    for idrnk in 1:20:120\n",
    "        nystrom_t = 0\n",
    "        nystrom_err = 0\n",
    "        mv_time = 0\n",
    "        for k in 1:3\n",
    "            q_set = randperm(length(x_vecs))[1:idrnk]\n",
    "            GC.gc()\n",
    "            nystrom_t += @elapsed begin\n",
    "                Nq =  mat_kern.(x_vecs, permutedims(x_vecs[q_set]))\n",
    "                qmat = lu( mat_kern.(x_vecs[q_set], permutedims(x_vecs[q_set])))\n",
    "            end\n",
    "            nystrom_guess = Nq[random_samp,:] * (qmat \\ transpose(Nq[random_samp,:]))\n",
    "            nystrom_err += norm(nystrom_guess-truth_mat)/truemat_frobnorm\n",
    "            mv_time += @elapsed res = (Nq \n",
    "                * (qmat \\ \n",
    "                    (transpose(Nq)*rand(size(Nq, 1)))))\n",
    "                \n",
    "\n",
    "        end\n",
    "        nystrom_err/=3\n",
    "        nystrom_t/=3\n",
    "        mv_time /= 3\n",
    "\n",
    "        # Get error for Nystrom\n",
    "\n",
    "        push!(nystrom_ranks, idrnk)\n",
    "        push!(nystrom_errs, nystrom_err)\n",
    "        push!(nystrom_times, nystrom_t)\n",
    "        push!(nystrom_mv_times, mv_time)\n",
    "        println(nystrom_errs[end])\n",
    "        # println(\"Nystrom r=\",idrnk, \", err=\", nystromerror)\n",
    "    end\n",
    "    d_to_nystrom_times[d] = nystrom_times\n",
    "    d_to_nystrom_errs[d] = nystrom_errs\n",
    "    d_to_nystrom_ranks[d] = nystrom_ranks\n",
    "    d_to_nystrom_mv_times[d] = nystrom_mv_times\n",
    "end"
   ]
  },
  {
   "cell_type": "code",
   "execution_count": null,
   "id": "231a17e2",
   "metadata": {},
   "outputs": [],
   "source": [
    "n = 1_000_000\n",
    "d = 3\n",
    "\n",
    "times = []\n",
    "accs = []\n",
    "ranks = []\n",
    "\n",
    "fkt_mv_times = []\n",
    " for err_tol_pow in 0:9\n",
    "    err_tol = (1e-5)*(2.0^err_tol_pow)\n",
    "    push!(times, err_results[(n, d, err_tol)][1])\n",
    "    push!(accs, err_results[(n, d, err_tol)][3])\n",
    "    push!(ranks, err_results[(n, d, err_tol)][2])\n",
    "    push!(fkt_mv_times, err_results[(n, d, err_tol)][4])\n",
    "    println(err_results[(n, d, err_tol)])\n",
    "end\n",
    "p = plot(title=\"d=3, n=1,000,000\")\n",
    "\n",
    "p = plot!(accs, times, xlabel=\"Rel acc\", ylabel=\"Time\", label=\"FKT\", \n",
    "     xlim=(2e-5,1e-1), legend=:topright,thickness_scaling = 1.25, xflip=false, xaxis=:log10, yaxis=:log10)\n",
    "p = plot!(accs, fkt_mv_times, label=\"FKT mv\")\n",
    "p = plot!(d_to_nystrom_errs[d], d_to_nystrom_times[d], label=\"Nystrom\")\n",
    "\n",
    "p = plot!(d_to_nystrom_errs[d], d_to_nystrom_mv_times[d], label=\"Nystrom mv\")\n",
    "\n",
    "# add matvec, same error as factor, use 2-norm for factor"
   ]
  },
  {
   "cell_type": "code",
   "execution_count": null,
   "id": "29559eef",
   "metadata": {},
   "outputs": [],
   "source": []
  },
  {
   "cell_type": "code",
   "execution_count": null,
   "id": "3b95ed40",
   "metadata": {},
   "outputs": [],
   "source": [
    "n = 1_000_000\n",
    "all_ys = []\n",
    "for d in 3:4:15\n",
    "    ys = []\n",
    "    for err_tol_pow in 5:9\n",
    "        err_tol = (1e-5)*(2.0^err_tol_pow)\n",
    "   \n",
    "        push!(ys, err_results[(n, d,err_tol)][3])\n",
    "        println(err_results[(n, d,err_tol)][3])\n",
    "    end\n",
    "    push!(all_ys, ys)\n",
    "end\n",
    "p = plot(title=string(\"n=\",n), thickness_scaling = 1.25, xlabel=\"Input err\", ylabel=\"Result err\", \n",
    "    xaxis=:log10, yaxis=:log10, legend=:bottomright)\n",
    "for k in 1:length(all_ys)\n",
    "    p=plot!([ (1e-5)*(2.0^err_tol_pow) for err_tol_pow in 5:9], all_ys[k], label=string(\"d=\",4k-1))\n",
    "end\n",
    "p\n",
    "\n",
    "#appendix"
   ]
  },
  {
   "cell_type": "code",
   "execution_count": null,
   "id": "05204670",
   "metadata": {},
   "outputs": [],
   "source": []
  },
  {
   "cell_type": "code",
   "execution_count": null,
   "id": "27257519",
   "metadata": {},
   "outputs": [],
   "source": [
    "n = 1_000_000\n",
    "all_times = []\n",
    "all_errs = []\n",
    "for d in 3:4:15\n",
    "    times = []\n",
    "    errs = []\n",
    "\n",
    "    for err_tol_pow in 5:9\n",
    "        err_tol = (1e-5)*(2.0^err_tol_pow)      \n",
    "        push!(times, err_results[(n, d,err_tol)][1])\n",
    "        push!(errs, err_results[(n, d,err_tol)][3])\n",
    "        println( err_results[(n, d,err_tol)])\n",
    "    end\n",
    "    push!(all_times, times)\n",
    "    push!(all_errs, errs)\n",
    "end\n",
    "p = plot(title=string(\"n=\",n), thickness_scaling = 1.25, ylabel=\"Time\", xlabel=\"Result err\", \n",
    "    xaxis=:log10, yaxis=:log10, legend=:topright)\n",
    "for k in 1:length(all_times)\n",
    "    p=plot!(all_errs[k], all_times[k], label=string(\"d=\",4k-1), xflip=true, ylim =( 5e-1, 5e1))\n",
    "end\n",
    "p"
   ]
  },
  {
   "cell_type": "code",
   "execution_count": null,
   "id": "f38d1ac1",
   "metadata": {},
   "outputs": [],
   "source": [
    "all_times = []\n",
    "n = 1_000_000\n",
    "d = 3\n",
    "\n",
    "times = []\n",
    "accs = []\n",
    "ranks = []\n",
    "\n",
    "for err_tol_pow in 0:9\n",
    "    err_tol = (1e-5)*(2.0^err_tol_pow)\n",
    "    push!(times, err_results[(n, d, err_tol)][1])\n",
    "    push!(accs, err_results[(n, d, err_tol)][3])\n",
    "    push!(ranks, err_results[(n, d, err_tol)][2])\n",
    "end\n",
    "p = plot(title=\"d=3, n=1,000,000\")\n",
    "\n",
    "p = plot!( ranks,accs, xlabel=\"Rank\", ylabel=\"Rel acc\", label=\"FKT\", thickness_scaling = 1.25)\n",
    "p = plot!(d_to_nystrom_ranks[d],d_to_nystrom_errs[d], yaxis=:log10, label=\"Nystrom\", xlim=(0,40))\n",
    "# Go further to the right FKT"
   ]
  },
  {
   "cell_type": "code",
   "execution_count": null,
   "id": "dc2becaf",
   "metadata": {},
   "outputs": [],
   "source": []
  }
 ],
 "metadata": {
  "@webio": {
   "lastCommId": null,
   "lastKernelId": null
  },
  "kernelspec": {
   "display_name": "Julia noboundcheck 1.6.1",
   "language": "julia",
   "name": "julia-noboundcheck-1.6"
  },
  "language_info": {
   "file_extension": ".jl",
   "mimetype": "application/julia",
   "name": "julia",
   "version": "1.6.1"
  }
 },
 "nbformat": 4,
 "nbformat_minor": 5
}
