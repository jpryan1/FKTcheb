{
 "cells": [
  {
   "cell_type": "code",
   "execution_count": 1,
   "id": "6aedb142",
   "metadata": {},
   "outputs": [],
   "source": [
    "using SymPy\n",
    "using LinearAlgebra\n",
    "using Plots\n",
    "using StaticArrays\n",
    "using Combinatorics\n",
    "using TimerOutputs\n",
    "using LowRankApprox\n",
    "using SpecialFunctions"
   ]
  },
  {
   "cell_type": "code",
   "execution_count": 2,
   "id": "b075700c",
   "metadata": {},
   "outputs": [
    {
     "data": {
      "text/plain": [
       "hypospherical (generic function with 1 method)"
      ]
     },
     "execution_count": 2,
     "metadata": {},
     "output_type": "execute_result"
    }
   ],
   "source": [
    "include(\"factor.jl\")\n",
    "include(\"util.jl\")\n",
    "include(\"gegenbauer.jl\")\n",
    "include(\"hyperspherical.jl\")"
   ]
  },
  {
   "cell_type": "code",
   "execution_count": 8,
   "id": "4e7d3109",
   "metadata": {},
   "outputs": [
    {
     "name": "stdout",
     "output_type": "stream",
     "text": [
      "0.9521729705208397\n",
      "FKT Error: 0.0010324055586911057\n"
     ]
    }
   ],
   "source": [
    "dct_n=100\n",
    "kern          = 1 / (1+r^2)\n",
    "lkern         = lambdify(kern)\n",
    "mat_kern(x,y) = 1 / (1+norm(x-y)^2)\n",
    "\n",
    "d = 2\n",
    "x_vecs = [randn(d)/8 for _ in 1:1000]\n",
    "max_norm = max(maximum(norm.(x_vecs)), maximum(norm.(x_vecs)))\n",
    "b = 2max_norm\n",
    "println(b)\n",
    "to = TimerOutput()\n",
    "\n",
    "fkt_deg = 12\n",
    "dover2 = convert(Int, fkt_deg/2)\n",
    "\n",
    "cfg = fkt_config(fkt_deg, d, b, dct_n, to)\n",
    "U_mat, V_mat = cheb_fkt(lkern, x_vecs, x_vecs, cfg)\n",
    "\n",
    "truth_mat  = mat_kern.(x_vecs, permutedims(x_vecs))\n",
    "svecs, svals = svd(truth_mat);\n",
    "guess = U_mat*V_mat\n",
    "error = norm(guess-truth_mat)/norm(truth_mat)\n",
    "println(\"FKT Error: \", error)"
   ]
  },
  {
   "cell_type": "markdown",
   "id": "0ae666b5",
   "metadata": {},
   "source": [
    "# Generate trans table so we can generate orthogonal polynomials"
   ]
  },
  {
   "cell_type": "code",
   "execution_count": null,
   "id": "7e7ceddb",
   "metadata": {},
   "outputs": [],
   "source": [
    "weight = r^(d-1)\n",
    "polynomials = [Sym(1)]\n",
    "polynomials[1] /= sqrt(integrate(weight*(polynomials[1]^2), (r,0,b)))\n",
    "for i in 2:(fkt_deg+1)\n",
    "    current = r^(i-1)\n",
    "    for j in 1:(i-1)\n",
    "        current -= polynomials[j] * (integrate(weight*polynomials[j]*r^(i-1), (r, 0, b))\n",
    "                / integrate(weight*polynomials[j]^2, (r, 0, b)))\n",
    "    end\n",
    "    norm = sqrt(integrate(weight*current^2, (r,0,b)))\n",
    "    push!(polynomials, expand(current/norm))\n",
    "end\n",
    "l_polys = []\n",
    "for p in polynomials\n",
    "    push!(l_polys, lambdify(p, [r]))\n",
    "end\n",
    "\n",
    "B = zeros((fkt_deg+1),(fkt_deg+1))\n",
    "for i in 1:(fkt_deg+1)\n",
    "    for j in 1:(fkt_deg+1)\n",
    "        if j == 1\n",
    "            B[i,j] = subs(polynomials[i], r=>0)\n",
    "        else\n",
    "            B[i,j] = polynomials[i].coeff(r^(j-1))\n",
    "        end\n",
    "    end\n",
    "end\n",
    "Binv = inv(B)\n",
    "\n",
    "a_vals = zeros(fkt_deg+1) # kern's coefs in cheb poly basis\n",
    "for i in 0:(fkt_deg)\n",
    "    a_vals[i+1] = dct(lkern, i, b, dct_n)\n",
    "end\n",
    "pij = get_pij_table(fkt_deg+1)\n",
    "transtable = zeros(Float64, fkt_deg+1, fkt_deg+1, fkt_deg+1)\n",
    "for j in 0:dover2\n",
    "    for new_i in 0:(fkt_deg-j)\n",
    "        for n in j:(fkt_deg-max(new_i,j))\n",
    "            if mod(j+n, 2) != 0\n",
    "                continue\n",
    "            end\n",
    "            for m in max(new_i,j):(fkt_deg-n)\n",
    "                if mod(m+j, 2) != 0\n",
    "                    continue\n",
    "                end\n",
    "                for k3 in j:min(m,n)\n",
    "                    if mod(k3+n, 2) != 0\n",
    "                        continue\n",
    "                    end\n",
    "                    for i in (n+m):fkt_deg\n",
    "                        m1 = convert(Int,((n-k3)/2))\n",
    "                        m2 = convert(Int,((m-k3)/2))\n",
    "                    transtable[j+1, new_i+1, n+1] += (pij[i+1, n+m+1] # here\n",
    "                                        * a_vals[i+1]\n",
    "                                        *Binv[m+1, new_i+1]\n",
    "                                        * A(j, k3, 1//2)\n",
    "                                        *(1-delta(0,i)/2) # here\n",
    "                                        *multinomial([m1,m2,k3]...) #here\n",
    "                                        *((1.0/b)^(n+m)) #here\n",
    "                                        *((-2.0)^k3)) #here\n",
    "                    end\n",
    "                end\n",
    "            end\n",
    "        end\n",
    "    end\n",
    "end"
   ]
  },
  {
   "cell_type": "code",
   "execution_count": null,
   "id": "2a13d9dd",
   "metadata": {},
   "outputs": [],
   "source": [
    "polynomials"
   ]
  },
  {
   "cell_type": "code",
   "execution_count": null,
   "id": "de02f97e",
   "metadata": {},
   "outputs": [],
   "source": [
    "U_polys = Dict()\n",
    "V_polys = Dict()\n",
    "\n",
    "x = Sym(\"x\")\n",
    "# There is a u and v poly for every j, h, i\n",
    "# For now we will ignore the harmonics and just inject the delta\n",
    "for j in 0:dover2\n",
    "    for new_i in 0:(fkt_deg - j)\n",
    "        x_poly=0\n",
    "        for n in j:2:(fkt_deg-max(new_i,j))\n",
    "            x_poly += (x^n)*transtable[j+1, new_i+1, n+1]\n",
    "        end\n",
    "        U_polys[(j, new_i)] = x_poly\n",
    "        V_polys[(j, new_i)] = subs(polynomials[new_i+1], r=>x)\n",
    "    end\n",
    "end"
   ]
  },
  {
   "cell_type": "code",
   "execution_count": null,
   "id": "917e4f20",
   "metadata": {},
   "outputs": [],
   "source": [
    "integrations = Dict()\n",
    "for j in 0:dover2\n",
    "    N_k_alpha = gegenbauer_normalizer(d, j)\n",
    "    for new_i in 0:(fkt_deg - j)\n",
    "        for new_ip in 0:(fkt_deg - j)\n",
    "            prod_poly =  U_polys[(j, new_i)]*V_polys[(j, new_ip)]\n",
    "            integrations[(j, new_i, new_ip)] =  N_k_alpha*integrate(prod_poly*x^2, (x, 0,b))\n",
    "        end\n",
    "    end\n",
    "end"
   ]
  },
  {
   "cell_type": "code",
   "execution_count": null,
   "id": "4bfd4395",
   "metadata": {},
   "outputs": [],
   "source": [
    "pole_count = 0\n",
    "for j in 0:dover2\n",
    "    for h in 1:length(get_multiindices(d, j))\n",
    "        for new_i in 0:(fkt_deg - j)\n",
    "            pole_count += 1\n",
    "        end\n",
    "    end\n",
    "end"
   ]
  },
  {
   "cell_type": "code",
   "execution_count": null,
   "id": "abe24ccc",
   "metadata": {},
   "outputs": [],
   "source": [
    "Cmat = zeros(pole_count,pole_count)\n",
    "pole_count = 0\n",
    "integral_count=0\n",
    "for j in 0:dover2\n",
    "    for h in 1:length(get_multiindices(d, j))\n",
    "        for new_i in 0:(fkt_deg - j)\n",
    "            pole_count += 1\n",
    "            pole_countp = 0\n",
    "            for jp in 0:dover2\n",
    "                for hp in 1:length(get_multiindices(d, jp))\n",
    "                    for new_ip in 0:(fkt_deg - jp)\n",
    "                       pole_countp += 1\n",
    "                        if j != jp || h != hp \n",
    "                            continue\n",
    "                        end\n",
    "                        Cmat[pole_count, pole_countp] = integrations[(j, new_i, new_ip)]\n",
    "                    end\n",
    "                end\n",
    "            end\n",
    "        end\n",
    "    end\n",
    "end"
   ]
  },
  {
   "cell_type": "code",
   "execution_count": null,
   "id": "5daaf37e",
   "metadata": {},
   "outputs": [],
   "source": []
  },
  {
   "cell_type": "code",
   "execution_count": null,
   "id": "cab7e16c",
   "metadata": {},
   "outputs": [],
   "source": [
    "plt = plot()\n",
    "all_evals = []\n",
    "all_evecs = []\n",
    "for smaller_deg in 4:2:12\n",
    "    smaller_dover2 = convert(Int, smaller_deg/2)\n",
    "    smaller_pole_count = 0\n",
    "    for j in 0:smaller_dover2\n",
    "        for h in 1:length(get_multiindices(d, j))\n",
    "            for new_i in 0:(smaller_deg - j)\n",
    "                smaller_pole_count += 1\n",
    "            end\n",
    "        end\n",
    "    end\n",
    "    evals, evecs = eigen(Cmat[1:smaller_pole_count, 1:smaller_pole_count]);\n",
    "    push!(all_evals, evals)\n",
    "    push!(all_evecs, evecs)\n",
    "    eigenguess = transpose(V_mat)[:,1:size(evecs,1)]*evecs*diagm(evals)*conj(transpose(evecs))*conj(V_mat)[1:size(evecs,1),:]; \n",
    "    println(smaller_deg, \" \", norm(eigenguess-truth_mat)/norm(truth_mat))\n",
    "    \n",
    "    revevals = max.(1e-6, sort(abs.(real(evals)))[end:-1:1])\n",
    "    cap = min(60,length(revevals))\n",
    "    plot!(1:cap, revevals[1:cap]/revevals[1], yscale=:log10)\n",
    "end\n",
    "plt"
   ]
  },
  {
   "cell_type": "code",
   "execution_count": null,
   "id": "4a92c861",
   "metadata": {},
   "outputs": [],
   "source": [
    "# revevals = real(evals[end:-1:1])\n",
    "evals = all_evals[end]\n",
    "revevals = max.(1e-12, sort(abs.(real(evals)))[end:-1:1])\n",
    "\n",
    "plot(1:length(svals), real(svals)/real(svals[1]), label=\"svd\", yscale=:log10)\n",
    "plot!(1:length(revevals), real(revevals)/real(revevals[1]), label=\"ev\",yscale=:log10)"
   ]
  },
  {
   "cell_type": "code",
   "execution_count": null,
   "id": "48c6290e",
   "metadata": {},
   "outputs": [],
   "source": [
    "x_vecs1d = [randn()/8 for _ in 1:2000]\n",
    "truth_mat1d  = mat_kern.(x_vecs1d, permutedims(x_vecs1d))\n",
    "\n",
    "svecs1d, svals1d = svd(truth_mat1d);\n",
    "scatter(x_vecs1d, svecs1d[:, 1])\n",
    "scatter!(x_vecs1d, svecs1d[:, 2])\n",
    "scatter!(x_vecs1d, svecs1d[:, 3])\n",
    "scatter!(x_vecs1d, svecs1d[:, 4], xlim=(-b/2,b/2), ylim=(-0.05,0.05))\n",
    "# scatter!(x_vecs2d, svecs2d[:, 5], xlim=(-b/2,b/2), ylim=(-0.05,0.05))\n",
    "# scatter!(x_vecs2d, svecs2d[:, 6])\n"
   ]
  },
  {
   "cell_type": "code",
   "execution_count": null,
   "id": "392230d4",
   "metadata": {},
   "outputs": [],
   "source": [
    "othermat_kern(x,y) =exp(-norm(x-y)^2)\n",
    "\n",
    "othertruth_mat1d  = othermat_kern.(x_vecs1d, permutedims(x_vecs1d))\n",
    "\n",
    "othersvecs1d, othersvals1d = svd(othertruth_mat1d);\n",
    "scatter(x_vecs1d, othersvecs1d[:, 1])\n",
    "scatter!(x_vecs1d, othersvecs1d[:, 2])\n",
    "scatter!(x_vecs1d, othersvecs1d[:, 3])\n",
    "scatter!(x_vecs1d, othersvecs1d[:, 4], xlim=(-b/2,b/2), ylim=(-0.05,0.05))\n",
    "# scatter!(x_vecs2d, svecs2d[:, 5], xlim=(-b/2,b/2), ylim=(-0.05,0.05))\n",
    "# scatter!(x_vecs2d, svecs2d[:, 6])\n"
   ]
  },
  {
   "cell_type": "code",
   "execution_count": null,
   "id": "804abdaf",
   "metadata": {},
   "outputs": [],
   "source": [
    "\n",
    "for i in 1:length(x_vecs1d)\n",
    "    if abs(othersvecs1d[i, 3]) < 1e-4\n",
    "        println(x_vecs1d[i])\n",
    "    end\n",
    "end\n",
    "scatter(x_vecs1d, othersvecs1d[:, 3], label=\"true\")\n",
    "\n",
    "scatter!(x_vecs1d, \n",
    "    [1.1000114xv^2-0.016861549xv-0.015763104 for xv in x_vecs1d] , \n",
    "    ) #xlim = (-0.03,0.03),\n",
    "#     #ylim = (-0.03,0))\n",
    "\n"
   ]
  },
  {
   "cell_type": "code",
   "execution_count": null,
   "id": "145e5cda",
   "metadata": {},
   "outputs": [],
   "source": []
  },
  {
   "cell_type": "code",
   "execution_count": null,
   "id": "8c687bd9",
   "metadata": {},
   "outputs": [],
   "source": []
  },
  {
   "cell_type": "code",
   "execution_count": null,
   "id": "0ebce4af",
   "metadata": {},
   "outputs": [],
   "source": []
  },
  {
   "cell_type": "code",
   "execution_count": null,
   "id": "1fcfe3ed",
   "metadata": {},
   "outputs": [],
   "source": [
    "x_vecs2d = [randn(2)/8 for _ in 1:2000]\n",
    "truth_mat2d  = mat_kern.(x_vecs2d, permutedims(x_vecs2d))\n",
    "\n",
    "svecs2d, svals2d = svd(truth_mat2d);\n",
    "scatter([xv[1] for xv in x_vecs2d],[xv[2] for xv in x_vecs2d] , svecs2d[:, 1])\n"
   ]
  },
  {
   "cell_type": "code",
   "execution_count": null,
   "id": "a9cc071b",
   "metadata": {},
   "outputs": [],
   "source": [
    "scatter([xv[1] for xv in x_vecs2d],[xv[2] for xv in x_vecs2d] , svecs2d[:, 2], camera=(80,0))\n"
   ]
  },
  {
   "cell_type": "code",
   "execution_count": null,
   "id": "550b1cfb",
   "metadata": {},
   "outputs": [],
   "source": [
    "scatter([xv[1] for xv in x_vecs2d],[xv[2] for xv in x_vecs2d] , svecs2d[:, 3])\n"
   ]
  },
  {
   "cell_type": "code",
   "execution_count": null,
   "id": "02cc4dba",
   "metadata": {},
   "outputs": [],
   "source": [
    "scatter([xv[1] for xv in x_vecs2d],[xv[2] for xv in x_vecs2d] , svecs2d[:, 4])\n"
   ]
  },
  {
   "cell_type": "code",
   "execution_count": null,
   "id": "0291d959",
   "metadata": {},
   "outputs": [],
   "source": [
    "scatter([xv[1] for xv in x_vecs2d],[xv[2] for xv in x_vecs2d] , svecs2d[:, 5], camera=(0,0))\n"
   ]
  },
  {
   "cell_type": "code",
   "execution_count": null,
   "id": "30af4614",
   "metadata": {},
   "outputs": [],
   "source": [
    "scatter([xv[1] for xv in x_vecs2d],[xv[2] for xv in x_vecs2d] , svecs2d[:, 6], camera=(90,0))\n"
   ]
  },
  {
   "cell_type": "code",
   "execution_count": null,
   "id": "f514d78e",
   "metadata": {},
   "outputs": [],
   "source": [
    "evecs = all_evecs[end]"
   ]
  },
  {
   "cell_type": "code",
   "execution_count": null,
   "id": "b6a99b2e",
   "metadata": {},
   "outputs": [],
   "source": [
    "evalmag_to_evec = Dict()\n",
    "for i in 1:length(evals)\n",
    "    evalmag_to_evec[abs(evals[i])] = evecs[:,i]\n",
    "end\n",
    "sorted_evecs = sort(collect(evalmag_to_evec), by = x->x[1])[end:-1:1];"
   ]
  },
  {
   "cell_type": "code",
   "execution_count": null,
   "id": "e4ba7d60",
   "metadata": {},
   "outputs": [],
   "source": [
    "start_i = 1\n",
    "end_i = 5\n",
    "plt = plot(1:size(evecs,1), real(sorted_evecs[1][2]))\n",
    "for i in start_i+1:end_i\n",
    "    plt = plot!(1:size(evecs,1), real(sorted_evecs[i][2]), xlim=(0,200), legend=false)\n",
    "end\n",
    "plt"
   ]
  },
  {
   "cell_type": "code",
   "execution_count": null,
   "id": "8d284d1d",
   "metadata": {},
   "outputs": [],
   "source": [
    "sorted_evecs[2][2][37:50]"
   ]
  },
  {
   "cell_type": "code",
   "execution_count": null,
   "id": "9bf82705",
   "metadata": {},
   "outputs": [],
   "source": [
    "sorted_evecs[1][2][1:14]"
   ]
  },
  {
   "cell_type": "code",
   "execution_count": null,
   "id": "5fe501b8",
   "metadata": {},
   "outputs": [],
   "source": [
    "pole_count = 0\n",
    "for j in 0:dover2\n",
    "    for h in 1:length(get_multiindices(d, j))\n",
    "        for new_i in 0:(fkt_deg - j)\n",
    "            pole_count += 1\n",
    "            println(\"entry \",pole_count, \" is \", j,\",\", h,\",\", new_i)\n",
    "        end\n",
    "    end\n",
    "end"
   ]
  },
  {
   "cell_type": "code",
   "execution_count": null,
   "id": "1b7f7324",
   "metadata": {},
   "outputs": [],
   "source": [
    "\n",
    "\n",
    "generate the same singular function plots except using eigenfunctions from cheb expansion\n",
    "    (2d wrangling)"
   ]
  }
 ],
 "metadata": {
  "@webio": {
   "lastCommId": null,
   "lastKernelId": null
  },
  "kernelspec": {
   "display_name": "Julia 1.6.1",
   "language": "julia",
   "name": "julia-1.6"
  },
  "language_info": {
   "file_extension": ".jl",
   "mimetype": "application/julia",
   "name": "julia",
   "version": "1.6.1"
  }
 },
 "nbformat": 4,
 "nbformat_minor": 5
}
