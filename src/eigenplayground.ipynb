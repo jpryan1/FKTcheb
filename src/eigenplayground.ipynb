{
 "cells": [
  {
   "cell_type": "code",
   "execution_count": 1,
   "id": "6aedb142",
   "metadata": {},
   "outputs": [],
   "source": [
    "using SymPy\n",
    "using LinearAlgebra\n",
    "using Plots\n",
    "using StaticArrays\n",
    "using Combinatorics\n",
    "using TimerOutputs\n",
    "using LowRankApprox\n",
    "using SpecialFunctions"
   ]
  },
  {
   "cell_type": "code",
   "execution_count": 2,
   "id": "b075700c",
   "metadata": {},
   "outputs": [
    {
     "data": {
      "text/plain": [
       "hypospherical (generic function with 1 method)"
      ]
     },
     "execution_count": 2,
     "metadata": {},
     "output_type": "execute_result"
    }
   ],
   "source": [
    "include(\"factor.jl\")\n",
    "include(\"util.jl\")\n",
    "include(\"gegenbauer.jl\")\n",
    "include(\"hyperspherical.jl\")"
   ]
  },
  {
   "cell_type": "code",
   "execution_count": 3,
   "id": "8bcb05ef",
   "metadata": {},
   "outputs": [
    {
     "data": {
      "text/latex": [
       "$\\begin{equation*}r\\end{equation*}$\n"
      ],
      "text/plain": [
       "r"
      ]
     },
     "execution_count": 3,
     "metadata": {},
     "output_type": "execute_result"
    }
   ],
   "source": [
    "r = Sym(\"r\")"
   ]
  },
  {
   "cell_type": "code",
   "execution_count": 12,
   "id": "4e7d3109",
   "metadata": {},
   "outputs": [
    {
     "data": {
      "text/plain": [
       "1.3720863290904333"
      ]
     },
     "execution_count": 12,
     "metadata": {},
     "output_type": "execute_result"
    }
   ],
   "source": [
    "dct_n=100\n",
    "kern          = 1 / (1+r^2)\n",
    "lkern         = lambdify(kern)\n",
    "mat_kern(x,y) = 1 / (1+norm(x-y)^2)\n",
    "\n",
    "d = 3\n",
    "x_vecs = [randn(d)/6 for _ in 1:1000]\n",
    "max_norm = max(maximum(norm.(x_vecs)), maximum(norm.(x_vecs)))\n",
    "b = 2max_norm\n"
   ]
  },
  {
   "cell_type": "code",
   "execution_count": 13,
   "id": "fb1ef2e6",
   "metadata": {},
   "outputs": [],
   "source": [
    "fkt_deg = 10\n",
    "dover2 = convert(Int64, fkt_deg/2)\n",
    "a_vals = zeros(fkt_deg+1) # kern's coefs in cheb poly basis\n",
    "for i in 0:(fkt_deg)\n",
    "    a_vals[i+1] = dct(lkern, i, b, dct_n)\n",
    "end\n",
    "pij = get_pij_table(fkt_deg+1)\n",
    "transtable = zeros(Float64, fkt_deg+1, fkt_deg+1, fkt_deg+1)\n",
    "for k3 in 0:dover2\n",
    "    for k2 in 0:(dover2 - k3)\n",
    "        for k1 in 0:(dover2-k3-k2)\n",
    "            for i in 2(k1+k2+k3):fkt_deg\n",
    "                transtable[k3+1, k2+1, k1+1] += (pij[i+1, 2(k1+k2+k3)+1] # here\n",
    "                                    * a_vals[i+1]\n",
    "                                    *(1-delta(0,i)/2) # here\n",
    "                                    *multinomial([k1,k2,k3]...) #here\n",
    "                                    *((1.0/b)^(2(k1+k2+k3))) #here\n",
    "                                    *((-2.0)^k3)) #here\n",
    "            end\n",
    "        end\n",
    "    end\n",
    "end"
   ]
  },
  {
   "cell_type": "code",
   "execution_count": 14,
   "id": "c45f78d0",
   "metadata": {},
   "outputs": [
    {
     "name": "stdout",
     "output_type": "stream",
     "text": [
      "0.0003581559732192586\n"
     ]
    }
   ],
   "source": [
    "tot = 0 \n",
    "mapping = Dict()\n",
    "for k3 in 0:fkt_deg\n",
    "    for i in multiexponents(d, k3)\n",
    "        mapping[i] = []\n",
    "    end\n",
    "end\n",
    "\n",
    "for k3 in 0:dover2\n",
    "    alphas = multiexponents(d, k3)\n",
    "    for alpha in alphas\n",
    "        for k2 in 0:(dover2-k3)\n",
    "            betas = multiexponents(d, k2)\n",
    "            for beta in betas\n",
    "                for k1 in 0:(dover2-k3-k2)\n",
    "                    gammas = multiexponents(d, k1)\n",
    "                    for gamma in gammas\n",
    "                        push!(mapping[alpha+2beta],(alpha, beta, gamma) )\n",
    "                    end\n",
    "                end\n",
    "            end\n",
    "        end\n",
    "    end\n",
    "end\n",
    "U_mat = zeros(length(x_vecs), length(mapping))\n",
    "V_mat = zeros(length(mapping),length(x_vecs))\n",
    "\n",
    "rank = 0\n",
    "for i in mapping\n",
    "    rank += 1\n",
    "    alphap2beta = i[1]\n",
    "    for (x_idx, x_vec) in enumerate(x_vecs)\n",
    "            U_mat[x_idx, rank] = (prod(x_vec .^ alphap2beta) )\n",
    "    end\n",
    "    triplets = i[2]\n",
    "    for (y_idx, y_vec) in enumerate(x_vecs)\n",
    "        for triplet in triplets\n",
    "            alpha = triplet[1]\n",
    "            beta  = triplet[2]\n",
    "            gamma = triplet[3]\n",
    "            k3 = sum(alpha)\n",
    "            k2 = sum(beta)\n",
    "            k1 = sum(gamma)\n",
    "           V_mat[rank, y_idx] += ( prod(y_vec .^ alpha) \n",
    "            * prod(y_vec .^ (2gamma)) \n",
    "            * multinomial(alpha...)\n",
    "            * multinomial(beta...)\n",
    "            * multinomial(gamma...)\n",
    "            *transtable[k3+1, k2+1, k1+1] )\n",
    "        end\n",
    "    end\n",
    "end\n",
    "\n",
    "guess = U_mat*V_mat\n",
    "truth_mat  = mat_kern.(x_vecs, permutedims(x_vecs))\n",
    "println(norm(truth_mat-guess,2)/norm(truth_mat,2))"
   ]
  },
  {
   "cell_type": "code",
   "execution_count": 15,
   "id": "c05326eb",
   "metadata": {},
   "outputs": [
    {
     "data": {
      "text/plain": [
       "LinearAlgebra.QRCompactWY{Float64, Matrix{Float64}}\n",
       "Q factor:\n",
       "1000×1000 LinearAlgebra.QRCompactWYQ{Float64, Matrix{Float64}}:\n",
       " -1.4396e-6    -8.62815e-7   -7.8327e-7    …   0.00378839    0.0138843\n",
       "  3.41998e-5   -0.010641      0.0498711       -0.00211992    0.00191179\n",
       " -5.16408e-5   -0.000126884  -0.00120168       0.000298637   0.0430989\n",
       " -5.95451e-5   -3.54881e-5   -2.04469e-5      -0.000410789  -0.0246148\n",
       " -0.000595972  -0.000440741  -0.000511407      0.00187444    0.0463818\n",
       "  0.0002172     0.00415336   -0.0437893    …  -0.00115538   -0.00173579\n",
       "  8.33861e-5   -0.000381049   0.00465932      -0.00579667   -0.020479\n",
       " -0.000136349   0.00231695    0.00454606      -0.0020235    -0.0421626\n",
       "  1.39165e-8   -4.26495e-6    7.72377e-6      -0.0112772    -0.0294371\n",
       " -2.20073e-7    3.03432e-5    0.000465773      0.00160039   -0.00171637\n",
       " -0.00325251   -0.0146438    -0.054895     …  -0.00227475   -0.0100762\n",
       " -9.87196e-7   -0.000241315  -0.00505955      -0.001017     -0.00248565\n",
       " -3.47171e-5   -1.29063e-5   -5.55529e-6       0.00441279    0.0577619\n",
       "  ⋮                                        ⋱                \n",
       " -0.013538     -0.00831045   -0.00596582       0.00393251    8.00697e-5\n",
       " -4.76829e-8   -2.95448e-8   -1.54851e-8       0.0044662    -0.00650499\n",
       " -0.000167341  -0.000285164  -2.70609e-6   …   0.00353455   -0.00968615\n",
       " -1.31498e-6   -0.000186518  -0.000481248      0.00284247   -0.0153836\n",
       " -6.28899e-9    5.42584e-6    3.31325e-5       0.00202062   -0.00700854\n",
       " -1.72997e-9    1.05074e-6    1.616e-5        -0.00432705    0.00290023\n",
       " -3.99234e-6    0.000513843   0.00761128      -0.000774276  -0.0103511\n",
       "  1.95554e-11  -1.03884e-7    1.4409e-6    …  -0.0169914     0.00111047\n",
       "  4.22502e-5    0.000520519  -0.00599187       0.00386913   -0.00695288\n",
       " -0.000207722   0.000364122   0.000148845     -0.00569615    0.00628591\n",
       "  2.9298e-13   -6.71852e-12   5.81264e-11      0.964719     -0.00466413\n",
       " -0.00683357   -0.00632738   -0.0159299       -0.00222395    0.00995353\n",
       "R factor:\n",
       "286×286 Matrix{Float64}:\n",
       " 0.000140595  -0.00315117   0.000990591  …  -3.98486e-5   -0.000356615\n",
       " 0.0           0.00545229  -0.00113506       5.64018e-5   -0.000339778\n",
       " 0.0           0.0         -0.000969749     -4.37239e-5    0.000629294\n",
       " 0.0           0.0          0.0              9.30596e-6    0.00013475\n",
       " 0.0           0.0          0.0              5.67819e-6   -0.000122259\n",
       " 0.0           0.0          0.0          …   0.000120019   7.92783e-5\n",
       " 0.0           0.0          0.0             -4.76515e-6   -0.00044506\n",
       " 0.0           0.0          0.0             -4.58394e-6   -0.000428823\n",
       " 0.0           0.0          0.0             -4.05767e-6    0.00103151\n",
       " 0.0           0.0          0.0              2.75111e-6   -0.000148105\n",
       " 0.0           0.0          0.0          …  -2.89715e-6    0.000185752\n",
       " 0.0           0.0          0.0              2.39082e-5    0.000209845\n",
       " 0.0           0.0          0.0             -9.57525e-5    8.42964e-5\n",
       " ⋮                                       ⋱                 ⋮\n",
       " 0.0           0.0          0.0              1.39594e-8    2.95323e-7\n",
       " 0.0           0.0          0.0          …   8.65139e-8   -3.36205e-7\n",
       " 0.0           0.0          0.0             -1.18953e-7    7.119e-8\n",
       " 0.0           0.0          0.0              5.93344e-8   -3.57853e-7\n",
       " 0.0           0.0          0.0              2.6633e-8     2.46774e-7\n",
       " 0.0           0.0          0.0              1.67545e-7   -4.69251e-7\n",
       " 0.0           0.0          0.0          …  -2.59419e-7   -7.0768e-7\n",
       " 0.0           0.0          0.0             -1.96079e-7   -5.69664e-7\n",
       " 0.0           0.0          0.0              1.97736e-7    5.71767e-7\n",
       " 0.0           0.0          0.0             -2.73475e-8   -1.4075e-7\n",
       " 0.0           0.0          0.0             -5.03286e-7   -8.27943e-8\n",
       " 0.0           0.0          0.0          …   0.0          -6.07211e-6"
      ]
     },
     "execution_count": 15,
     "metadata": {},
     "output_type": "execute_result"
    }
   ],
   "source": [
    "qmat, rmat = qr(U_mat)"
   ]
  },
  {
   "cell_type": "code",
   "execution_count": 16,
   "id": "2ded4041",
   "metadata": {},
   "outputs": [
    {
     "data": {
      "text/plain": [
       "1000×286 Matrix{Float64}:\n",
       " -1.4396e-6    -8.62815e-7   -7.8327e-7    …  -0.0216837    0.0222596\n",
       "  3.41998e-5   -0.010641      0.0498711       -0.0295256   -0.00145301\n",
       " -5.16408e-5   -0.000126884  -0.00120168       0.0192856    0.0176488\n",
       " -5.95451e-5   -3.54881e-5   -2.04469e-5       0.0127533   -0.036909\n",
       " -0.000595972  -0.000440741  -0.000511407      0.0179893    0.021196\n",
       "  0.0002172     0.00415336   -0.0437893    …  -0.00388528  -0.0584591\n",
       "  8.33861e-5   -0.000381049   0.00465932      -0.140454     0.00541985\n",
       " -0.000136349   0.00231695    0.00454606      -0.00803773  -0.00739614\n",
       "  1.39165e-8   -4.26495e-6    7.72377e-6      -0.0110542    0.0151746\n",
       " -2.20073e-7    3.03432e-5    0.000465773      0.0627463    0.0250101\n",
       " -0.00325251   -0.0146438    -0.054895     …  -0.0374327   -0.0240085\n",
       " -9.87196e-7   -0.000241315  -0.00505955      -0.0410893   -0.0460665\n",
       " -3.47171e-5   -1.29063e-5   -5.55529e-6      -0.0204143   -0.0146656\n",
       "  ⋮                                        ⋱                ⋮\n",
       " -0.013538     -0.00831045   -0.00596582       0.014085     0.0258995\n",
       " -4.76829e-8   -2.95448e-8   -1.54851e-8       0.0239166    0.00602486\n",
       " -0.000167341  -0.000285164  -2.70609e-6   …   0.0111036   -0.00402995\n",
       " -1.31498e-6   -0.000186518  -0.000481248      0.0143931    0.0131772\n",
       " -6.28899e-9    5.42584e-6    3.31325e-5       0.0010679    0.0286311\n",
       " -1.72997e-9    1.05074e-6    1.616e-5         0.0185886   -0.00965683\n",
       " -3.99234e-6    0.000513843   0.00761128      -0.0389251   -0.0386175\n",
       "  1.95554e-11  -1.03884e-7    1.4409e-6    …  -0.023981    -0.00315291\n",
       "  4.22502e-5    0.000520519  -0.00599187      -0.0386114   -0.00886092\n",
       " -0.000207722   0.000364122   0.000148845      0.0310724   -0.0309718\n",
       "  2.9298e-13   -6.71852e-12   5.81264e-11      0.0231786   -0.0037526\n",
       " -0.00683357   -0.00632738   -0.0159299       -0.00380234   0.0126533"
      ]
     },
     "execution_count": 16,
     "metadata": {},
     "output_type": "execute_result"
    }
   ],
   "source": [
    "qmat = qmat*Matrix(I, size(U_mat,1), size(U_mat,2))"
   ]
  },
  {
   "cell_type": "code",
   "execution_count": 25,
   "id": "c929d95e",
   "metadata": {},
   "outputs": [],
   "source": [
    "rbq = rmat*V_mat*qmat\n",
    "svecs, svals = svd(rbq)\n",
    "errs = []\n",
    "for i in 1:50\n",
    "    new_guess = qmat*svecs[:, 1:i]*diagm(svals[1:i])*transpose(svecs[:, 1:i])*transpose(qmat)\n",
    "    push!(errs, norm(truth_mat-new_guess,2)/norm(truth_mat,2))\n",
    "end"
   ]
  },
  {
   "cell_type": "code",
   "execution_count": 28,
   "id": "1c7065b8",
   "metadata": {},
   "outputs": [
    {
     "data": {
      "image/svg+xml": [
       "<?xml version=\"1.0\" encoding=\"utf-8\"?>\n",
       "<svg xmlns=\"http://www.w3.org/2000/svg\" xmlns:xlink=\"http://www.w3.org/1999/xlink\" width=\"600\" height=\"400\" viewBox=\"0 0 2400 1600\">\n",
       "<defs>\n",
       "  <clipPath id=\"clip680\">\n",
       "    <rect x=\"0\" y=\"0\" width=\"2400\" height=\"1600\"/>\n",
       "  </clipPath>\n",
       "</defs>\n",
       "<path clip-path=\"url(#clip680)\" d=\"\n",
       "M0 1600 L2400 1600 L2400 0 L0 0  Z\n",
       "  \" fill=\"#ffffff\" fill-rule=\"evenodd\" fill-opacity=\"1\"/>\n",
       "<defs>\n",
       "  <clipPath id=\"clip681\">\n",
       "    <rect x=\"480\" y=\"0\" width=\"1681\" height=\"1600\"/>\n",
       "  </clipPath>\n",
       "</defs>\n",
       "<path clip-path=\"url(#clip680)\" d=\"\n",
       "M188.574 1486.45 L2352.76 1486.45 L2352.76 47.2441 L188.574 47.2441  Z\n",
       "  \" fill=\"#ffffff\" fill-rule=\"evenodd\" fill-opacity=\"1\"/>\n",
       "<defs>\n",
       "  <clipPath id=\"clip682\">\n",
       "    <rect x=\"188\" y=\"47\" width=\"2165\" height=\"1440\"/>\n",
       "  </clipPath>\n",
       "</defs>\n",
       "<polyline clip-path=\"url(#clip682)\" style=\"stroke:#000000; stroke-linecap:butt; stroke-linejoin:round; stroke-width:2; stroke-opacity:0.1; fill:none\" points=\"\n",
       "  208.991,1486.45 208.991,47.2441 \n",
       "  \"/>\n",
       "<polyline clip-path=\"url(#clip682)\" style=\"stroke:#000000; stroke-linecap:butt; stroke-linejoin:round; stroke-width:2; stroke-opacity:0.1; fill:none\" points=\"\n",
       "  617.327,1486.45 617.327,47.2441 \n",
       "  \"/>\n",
       "<polyline clip-path=\"url(#clip682)\" style=\"stroke:#000000; stroke-linecap:butt; stroke-linejoin:round; stroke-width:2; stroke-opacity:0.1; fill:none\" points=\"\n",
       "  1025.66,1486.45 1025.66,47.2441 \n",
       "  \"/>\n",
       "<polyline clip-path=\"url(#clip682)\" style=\"stroke:#000000; stroke-linecap:butt; stroke-linejoin:round; stroke-width:2; stroke-opacity:0.1; fill:none\" points=\"\n",
       "  1434,1486.45 1434,47.2441 \n",
       "  \"/>\n",
       "<polyline clip-path=\"url(#clip682)\" style=\"stroke:#000000; stroke-linecap:butt; stroke-linejoin:round; stroke-width:2; stroke-opacity:0.1; fill:none\" points=\"\n",
       "  1842.34,1486.45 1842.34,47.2441 \n",
       "  \"/>\n",
       "<polyline clip-path=\"url(#clip682)\" style=\"stroke:#000000; stroke-linecap:butt; stroke-linejoin:round; stroke-width:2; stroke-opacity:0.1; fill:none\" points=\"\n",
       "  2250.67,1486.45 2250.67,47.2441 \n",
       "  \"/>\n",
       "<polyline clip-path=\"url(#clip680)\" style=\"stroke:#000000; stroke-linecap:butt; stroke-linejoin:round; stroke-width:4; stroke-opacity:1; fill:none\" points=\"\n",
       "  188.574,1486.45 2352.76,1486.45 \n",
       "  \"/>\n",
       "<polyline clip-path=\"url(#clip680)\" style=\"stroke:#000000; stroke-linecap:butt; stroke-linejoin:round; stroke-width:4; stroke-opacity:1; fill:none\" points=\"\n",
       "  208.991,1486.45 208.991,1467.55 \n",
       "  \"/>\n",
       "<polyline clip-path=\"url(#clip680)\" style=\"stroke:#000000; stroke-linecap:butt; stroke-linejoin:round; stroke-width:4; stroke-opacity:1; fill:none\" points=\"\n",
       "  617.327,1486.45 617.327,1467.55 \n",
       "  \"/>\n",
       "<polyline clip-path=\"url(#clip680)\" style=\"stroke:#000000; stroke-linecap:butt; stroke-linejoin:round; stroke-width:4; stroke-opacity:1; fill:none\" points=\"\n",
       "  1025.66,1486.45 1025.66,1467.55 \n",
       "  \"/>\n",
       "<polyline clip-path=\"url(#clip680)\" style=\"stroke:#000000; stroke-linecap:butt; stroke-linejoin:round; stroke-width:4; stroke-opacity:1; fill:none\" points=\"\n",
       "  1434,1486.45 1434,1467.55 \n",
       "  \"/>\n",
       "<polyline clip-path=\"url(#clip680)\" style=\"stroke:#000000; stroke-linecap:butt; stroke-linejoin:round; stroke-width:4; stroke-opacity:1; fill:none\" points=\"\n",
       "  1842.34,1486.45 1842.34,1467.55 \n",
       "  \"/>\n",
       "<polyline clip-path=\"url(#clip680)\" style=\"stroke:#000000; stroke-linecap:butt; stroke-linejoin:round; stroke-width:4; stroke-opacity:1; fill:none\" points=\"\n",
       "  2250.67,1486.45 2250.67,1467.55 \n",
       "  \"/>\n",
       "<path clip-path=\"url(#clip680)\" d=\"M208.991 1515.64 Q205.38 1515.64 203.551 1519.2 Q201.746 1522.75 201.746 1529.87 Q201.746 1536.98 203.551 1540.55 Q205.38 1544.09 208.991 1544.09 Q212.625 1544.09 214.431 1540.55 Q216.26 1536.98 216.26 1529.87 Q216.26 1522.75 214.431 1519.2 Q212.625 1515.64 208.991 1515.64 M208.991 1511.93 Q214.801 1511.93 217.857 1516.54 Q220.936 1521.12 220.936 1529.87 Q220.936 1538.6 217.857 1543.21 Q214.801 1547.79 208.991 1547.79 Q203.181 1547.79 200.102 1543.21 Q197.047 1538.6 197.047 1529.87 Q197.047 1521.12 200.102 1516.54 Q203.181 1511.93 208.991 1511.93 Z\" fill=\"#000000\" fill-rule=\"evenodd\" fill-opacity=\"1\" /><path clip-path=\"url(#clip680)\" d=\"M592.015 1543.18 L599.654 1543.18 L599.654 1516.82 L591.344 1518.49 L591.344 1514.23 L599.607 1512.56 L604.283 1512.56 L604.283 1543.18 L611.922 1543.18 L611.922 1547.12 L592.015 1547.12 L592.015 1543.18 Z\" fill=\"#000000\" fill-rule=\"evenodd\" fill-opacity=\"1\" /><path clip-path=\"url(#clip680)\" d=\"M631.367 1515.64 Q627.755 1515.64 625.927 1519.2 Q624.121 1522.75 624.121 1529.87 Q624.121 1536.98 625.927 1540.55 Q627.755 1544.09 631.367 1544.09 Q635.001 1544.09 636.806 1540.55 Q638.635 1536.98 638.635 1529.87 Q638.635 1522.75 636.806 1519.2 Q635.001 1515.64 631.367 1515.64 M631.367 1511.93 Q637.177 1511.93 640.232 1516.54 Q643.311 1521.12 643.311 1529.87 Q643.311 1538.6 640.232 1543.21 Q637.177 1547.79 631.367 1547.79 Q625.556 1547.79 622.478 1543.21 Q619.422 1538.6 619.422 1529.87 Q619.422 1521.12 622.478 1516.54 Q625.556 1511.93 631.367 1511.93 Z\" fill=\"#000000\" fill-rule=\"evenodd\" fill-opacity=\"1\" /><path clip-path=\"url(#clip680)\" d=\"M1004.44 1543.18 L1020.76 1543.18 L1020.76 1547.12 L998.812 1547.12 L998.812 1543.18 Q1001.47 1540.43 1006.06 1535.8 Q1010.66 1531.15 1011.84 1529.81 Q1014.09 1527.28 1014.97 1525.55 Q1015.87 1523.79 1015.87 1522.1 Q1015.87 1519.34 1013.93 1517.61 Q1012.01 1515.87 1008.9 1515.87 Q1006.71 1515.87 1004.25 1516.63 Q1001.82 1517.4 999.043 1518.95 L999.043 1514.23 Q1001.87 1513.09 1004.32 1512.51 Q1006.77 1511.93 1008.81 1511.93 Q1014.18 1511.93 1017.38 1514.62 Q1020.57 1517.31 1020.57 1521.8 Q1020.57 1523.93 1019.76 1525.85 Q1018.97 1527.74 1016.87 1530.34 Q1016.29 1531.01 1013.19 1534.23 Q1010.08 1537.42 1004.44 1543.18 Z\" fill=\"#000000\" fill-rule=\"evenodd\" fill-opacity=\"1\" /><path clip-path=\"url(#clip680)\" d=\"M1040.57 1515.64 Q1036.96 1515.64 1035.13 1519.2 Q1033.33 1522.75 1033.33 1529.87 Q1033.33 1536.98 1035.13 1540.55 Q1036.96 1544.09 1040.57 1544.09 Q1044.21 1544.09 1046.01 1540.55 Q1047.84 1536.98 1047.84 1529.87 Q1047.84 1522.75 1046.01 1519.2 Q1044.21 1515.64 1040.57 1515.64 M1040.57 1511.93 Q1046.38 1511.93 1049.44 1516.54 Q1052.52 1521.12 1052.52 1529.87 Q1052.52 1538.6 1049.44 1543.21 Q1046.38 1547.79 1040.57 1547.79 Q1034.76 1547.79 1031.68 1543.21 Q1028.63 1538.6 1028.63 1529.87 Q1028.63 1521.12 1031.68 1516.54 Q1034.76 1511.93 1040.57 1511.93 Z\" fill=\"#000000\" fill-rule=\"evenodd\" fill-opacity=\"1\" /><path clip-path=\"url(#clip680)\" d=\"M1422.84 1528.49 Q1426.2 1529.2 1428.07 1531.47 Q1429.97 1533.74 1429.97 1537.07 Q1429.97 1542.19 1426.45 1544.99 Q1422.93 1547.79 1416.45 1547.79 Q1414.28 1547.79 1411.96 1547.35 Q1409.67 1546.93 1407.22 1546.08 L1407.22 1541.56 Q1409.16 1542.7 1411.48 1543.28 Q1413.79 1543.86 1416.31 1543.86 Q1420.71 1543.86 1423 1542.12 Q1425.32 1540.38 1425.32 1537.07 Q1425.32 1534.02 1423.17 1532.31 Q1421.04 1530.57 1417.22 1530.57 L1413.19 1530.57 L1413.19 1526.73 L1417.4 1526.73 Q1420.85 1526.73 1422.68 1525.36 Q1424.51 1523.97 1424.51 1521.38 Q1424.51 1518.72 1422.61 1517.31 Q1420.74 1515.87 1417.22 1515.87 Q1415.3 1515.87 1413.1 1516.29 Q1410.9 1516.7 1408.26 1517.58 L1408.26 1513.42 Q1410.92 1512.68 1413.24 1512.31 Q1415.57 1511.93 1417.63 1511.93 Q1422.96 1511.93 1426.06 1514.37 Q1429.16 1516.77 1429.16 1520.89 Q1429.16 1523.76 1427.52 1525.75 Q1425.87 1527.72 1422.84 1528.49 Z\" fill=\"#000000\" fill-rule=\"evenodd\" fill-opacity=\"1\" /><path clip-path=\"url(#clip680)\" d=\"M1448.84 1515.64 Q1445.23 1515.64 1443.4 1519.2 Q1441.59 1522.75 1441.59 1529.87 Q1441.59 1536.98 1443.4 1540.55 Q1445.23 1544.09 1448.84 1544.09 Q1452.47 1544.09 1454.28 1540.55 Q1456.11 1536.98 1456.11 1529.87 Q1456.11 1522.75 1454.28 1519.2 Q1452.47 1515.64 1448.84 1515.64 M1448.84 1511.93 Q1454.65 1511.93 1457.7 1516.54 Q1460.78 1521.12 1460.78 1529.87 Q1460.78 1538.6 1457.7 1543.21 Q1454.65 1547.79 1448.84 1547.79 Q1443.03 1547.79 1439.95 1543.21 Q1436.89 1538.6 1436.89 1529.87 Q1436.89 1521.12 1439.95 1516.54 Q1443.03 1511.93 1448.84 1511.93 Z\" fill=\"#000000\" fill-rule=\"evenodd\" fill-opacity=\"1\" /><path clip-path=\"url(#clip680)\" d=\"M1830.51 1516.63 L1818.7 1535.08 L1830.51 1535.08 L1830.51 1516.63 M1829.28 1512.56 L1835.16 1512.56 L1835.16 1535.08 L1840.09 1535.08 L1840.09 1538.97 L1835.16 1538.97 L1835.16 1547.12 L1830.51 1547.12 L1830.51 1538.97 L1814.91 1538.97 L1814.91 1534.46 L1829.28 1512.56 Z\" fill=\"#000000\" fill-rule=\"evenodd\" fill-opacity=\"1\" /><path clip-path=\"url(#clip680)\" d=\"M1857.82 1515.64 Q1854.21 1515.64 1852.38 1519.2 Q1850.58 1522.75 1850.58 1529.87 Q1850.58 1536.98 1852.38 1540.55 Q1854.21 1544.09 1857.82 1544.09 Q1861.46 1544.09 1863.26 1540.55 Q1865.09 1536.98 1865.09 1529.87 Q1865.09 1522.75 1863.26 1519.2 Q1861.46 1515.64 1857.82 1515.64 M1857.82 1511.93 Q1863.63 1511.93 1866.69 1516.54 Q1869.77 1521.12 1869.77 1529.87 Q1869.77 1538.6 1866.69 1543.21 Q1863.63 1547.79 1857.82 1547.79 Q1852.01 1547.79 1848.93 1543.21 Q1845.88 1538.6 1845.88 1529.87 Q1845.88 1521.12 1848.93 1516.54 Q1852.01 1511.93 1857.82 1511.93 Z\" fill=\"#000000\" fill-rule=\"evenodd\" fill-opacity=\"1\" /><path clip-path=\"url(#clip680)\" d=\"M2225.37 1512.56 L2243.73 1512.56 L2243.73 1516.5 L2229.65 1516.5 L2229.65 1524.97 Q2230.67 1524.62 2231.69 1524.46 Q2232.71 1524.27 2233.73 1524.27 Q2239.51 1524.27 2242.89 1527.44 Q2246.27 1530.62 2246.27 1536.03 Q2246.27 1541.61 2242.8 1544.71 Q2239.33 1547.79 2233.01 1547.79 Q2230.83 1547.79 2228.57 1547.42 Q2226.32 1547.05 2223.91 1546.31 L2223.91 1541.61 Q2226 1542.74 2228.22 1543.3 Q2230.44 1543.86 2232.92 1543.86 Q2236.92 1543.86 2239.26 1541.75 Q2241.6 1539.64 2241.6 1536.03 Q2241.6 1532.42 2239.26 1530.31 Q2236.92 1528.21 2232.92 1528.21 Q2231.04 1528.21 2229.17 1528.62 Q2227.32 1529.04 2225.37 1529.92 L2225.37 1512.56 Z\" fill=\"#000000\" fill-rule=\"evenodd\" fill-opacity=\"1\" /><path clip-path=\"url(#clip680)\" d=\"M2265.49 1515.64 Q2261.88 1515.64 2260.05 1519.2 Q2258.24 1522.75 2258.24 1529.87 Q2258.24 1536.98 2260.05 1540.55 Q2261.88 1544.09 2265.49 1544.09 Q2269.12 1544.09 2270.93 1540.55 Q2272.76 1536.98 2272.76 1529.87 Q2272.76 1522.75 2270.93 1519.2 Q2269.12 1515.64 2265.49 1515.64 M2265.49 1511.93 Q2271.3 1511.93 2274.35 1516.54 Q2277.43 1521.12 2277.43 1529.87 Q2277.43 1538.6 2274.35 1543.21 Q2271.3 1547.79 2265.49 1547.79 Q2259.68 1547.79 2256.6 1543.21 Q2253.54 1538.6 2253.54 1529.87 Q2253.54 1521.12 2256.6 1516.54 Q2259.68 1511.93 2265.49 1511.93 Z\" fill=\"#000000\" fill-rule=\"evenodd\" fill-opacity=\"1\" /><polyline clip-path=\"url(#clip682)\" style=\"stroke:#000000; stroke-linecap:butt; stroke-linejoin:round; stroke-width:2; stroke-opacity:0.1; fill:none\" points=\"\n",
       "  188.574,835.351 2352.76,835.351 \n",
       "  \"/>\n",
       "<polyline clip-path=\"url(#clip682)\" style=\"stroke:#000000; stroke-linecap:butt; stroke-linejoin:round; stroke-width:2; stroke-opacity:0.1; fill:none\" points=\"\n",
       "  188.574,87.9763 2352.76,87.9763 \n",
       "  \"/>\n",
       "<polyline clip-path=\"url(#clip680)\" style=\"stroke:#000000; stroke-linecap:butt; stroke-linejoin:round; stroke-width:4; stroke-opacity:1; fill:none\" points=\"\n",
       "  188.574,1486.45 188.574,47.2441 \n",
       "  \"/>\n",
       "<polyline clip-path=\"url(#clip680)\" style=\"stroke:#000000; stroke-linecap:butt; stroke-linejoin:round; stroke-width:4; stroke-opacity:1; fill:none\" points=\"\n",
       "  188.574,835.351 207.472,835.351 \n",
       "  \"/>\n",
       "<polyline clip-path=\"url(#clip680)\" style=\"stroke:#000000; stroke-linecap:butt; stroke-linejoin:round; stroke-width:4; stroke-opacity:1; fill:none\" points=\"\n",
       "  188.574,87.9763 207.472,87.9763 \n",
       "  \"/>\n",
       "<path clip-path=\"url(#clip680)\" d=\"M51.6634 855.144 L59.3023 855.144 L59.3023 828.778 L50.9921 830.445 L50.9921 826.186 L59.256 824.519 L63.9319 824.519 L63.9319 855.144 L71.5707 855.144 L71.5707 859.079 L51.6634 859.079 L51.6634 855.144 Z\" fill=\"#000000\" fill-rule=\"evenodd\" fill-opacity=\"1\" /><path clip-path=\"url(#clip680)\" d=\"M91.0151 827.598 Q87.404 827.598 85.5753 831.162 Q83.7697 834.704 83.7697 841.834 Q83.7697 848.94 85.5753 852.505 Q87.404 856.046 91.0151 856.046 Q94.6493 856.046 96.4548 852.505 Q98.2835 848.94 98.2835 841.834 Q98.2835 834.704 96.4548 831.162 Q94.6493 827.598 91.0151 827.598 M91.0151 823.894 Q96.8252 823.894 99.8808 828.5 Q102.959 833.084 102.959 841.834 Q102.959 850.56 99.8808 855.167 Q96.8252 859.75 91.0151 859.75 Q85.2049 859.75 82.1262 855.167 Q79.0707 850.56 79.0707 841.834 Q79.0707 833.084 82.1262 828.5 Q85.2049 823.894 91.0151 823.894 Z\" fill=\"#000000\" fill-rule=\"evenodd\" fill-opacity=\"1\" /><path clip-path=\"url(#clip680)\" d=\"M102.959 817.995 L127.071 817.995 L127.071 821.193 L102.959 821.193 L102.959 817.995 Z\" fill=\"#000000\" fill-rule=\"evenodd\" fill-opacity=\"1\" /><path clip-path=\"url(#clip680)\" d=\"M146.782 816.528 Q149.509 817.111 151.032 818.954 Q152.574 820.798 152.574 823.506 Q152.574 827.662 149.716 829.938 Q146.857 832.214 141.591 832.214 Q139.823 832.214 137.942 831.857 Q136.08 831.518 134.086 830.822 L134.086 827.155 Q135.666 828.076 137.547 828.546 Q139.428 829.017 141.478 829.017 Q145.051 829.017 146.913 827.606 Q148.794 826.195 148.794 823.506 Q148.794 821.023 147.045 819.631 Q145.315 818.221 142.211 818.221 L138.939 818.221 L138.939 815.099 L142.362 815.099 Q145.164 815.099 146.65 813.989 Q148.136 812.861 148.136 810.754 Q148.136 808.591 146.593 807.444 Q145.07 806.278 142.211 806.278 Q140.65 806.278 138.863 806.617 Q137.077 806.955 134.933 807.67 L134.933 804.284 Q137.096 803.683 138.976 803.382 Q140.876 803.081 142.55 803.081 Q146.876 803.081 149.396 805.055 Q151.916 807.011 151.916 810.359 Q151.916 812.691 150.581 814.309 Q149.245 815.908 146.782 816.528 Z\" fill=\"#000000\" fill-rule=\"evenodd\" fill-opacity=\"1\" /><path clip-path=\"url(#clip680)\" d=\"M81.8687 107.769 L89.5075 107.769 L89.5075 81.4031 L81.1974 83.0698 L81.1974 78.8105 L89.4612 77.1439 L94.1371 77.1439 L94.1371 107.769 L101.776 107.769 L101.776 111.704 L81.8687 111.704 L81.8687 107.769 Z\" fill=\"#000000\" fill-rule=\"evenodd\" fill-opacity=\"1\" /><path clip-path=\"url(#clip680)\" d=\"M121.22 80.2226 Q117.609 80.2226 115.781 83.7874 Q113.975 87.329 113.975 94.4586 Q113.975 101.565 115.781 105.13 Q117.609 108.671 121.22 108.671 Q124.855 108.671 126.66 105.13 Q128.489 101.565 128.489 94.4586 Q128.489 87.329 126.66 83.7874 Q124.855 80.2226 121.22 80.2226 M121.22 76.5189 Q127.03 76.5189 130.086 81.1253 Q133.165 85.7086 133.165 94.4586 Q133.165 103.185 130.086 107.792 Q127.03 112.375 121.22 112.375 Q115.41 112.375 112.331 107.792 Q109.276 103.185 109.276 94.4586 Q109.276 85.7086 112.331 81.1253 Q115.41 76.5189 121.22 76.5189 Z\" fill=\"#000000\" fill-rule=\"evenodd\" fill-opacity=\"1\" /><path clip-path=\"url(#clip680)\" d=\"M142.87 58.7149 Q139.936 58.7149 138.45 61.6113 Q136.983 64.4889 136.983 70.2817 Q136.983 76.0557 138.45 78.9521 Q139.936 81.8297 142.87 81.8297 Q145.822 81.8297 147.289 78.9521 Q148.775 76.0557 148.775 70.2817 Q148.775 64.4889 147.289 61.6113 Q145.822 58.7149 142.87 58.7149 M142.87 55.7057 Q147.59 55.7057 150.073 59.4484 Q152.574 63.1724 152.574 70.2817 Q152.574 77.3722 150.073 81.115 Q147.59 84.8389 142.87 84.8389 Q138.149 84.8389 135.647 81.115 Q133.165 77.3722 133.165 70.2817 Q133.165 63.1724 135.647 59.4484 Q138.149 55.7057 142.87 55.7057 Z\" fill=\"#000000\" fill-rule=\"evenodd\" fill-opacity=\"1\" /><polyline clip-path=\"url(#clip682)\" style=\"stroke:#009af9; stroke-linecap:butt; stroke-linejoin:round; stroke-width:4; stroke-opacity:1; fill:none\" points=\"\n",
       "  290.658,371.852 331.492,395.503 372.326,432.547 413.159,599.131 453.993,623.481 494.826,638.246 535.66,655.497 576.494,680.358 617.327,716.958 658.161,809.516 \n",
       "  698.995,821.783 739.828,834.138 780.662,845.616 821.495,856.478 862.329,867.525 903.163,878.349 943.996,891.131 984.83,904.078 1025.66,919.847 1066.5,936.388 \n",
       "  1107.33,938.552 1148.16,940.315 1189,941.233 1229.83,942.158 1270.67,942.842 1311.5,943.426 1352.33,943.834 1393.17,944.313 1434,944.808 1474.83,945.235 \n",
       "  1515.67,945.57 1556.5,945.822 1597.33,946.159 1638.17,946.42 1679,946.565 1719.83,946.607 1760.67,946.64 1801.5,946.651 1842.34,946.664 1883.17,946.671 \n",
       "  1924,946.68 1964.84,946.687 2005.67,946.691 2046.5,946.697 2087.34,946.702 2128.17,946.707 2169,946.71 2209.84,946.714 2250.67,946.718 2291.51,946.72 \n",
       "  \n",
       "  \"/>\n",
       "<polyline clip-path=\"url(#clip682)\" style=\"stroke:#e26f46; stroke-linecap:butt; stroke-linejoin:round; stroke-width:4; stroke-opacity:1; fill:none\" points=\"\n",
       "  249.825,87.9763 290.658,427.721 331.492,433.17 372.326,434.808 413.159,653.725 453.993,700.644 494.826,708.165 535.66,709.211 576.494,718.465 617.327,727.438 \n",
       "  658.161,894.188 698.995,905.88 739.828,920.799 780.662,937.678 821.495,947.84 862.329,959.305 903.163,962.144 943.996,973.86 984.83,977.746 1025.66,990.839 \n",
       "  1066.5,1094.03 1107.33,1108.5 1148.16,1138.26 1189,1145.95 1229.83,1152.65 1270.67,1164.3 1311.5,1179 1352.33,1183.58 1393.17,1188.12 1434,1195.5 \n",
       "  1474.83,1202.35 1515.67,1215.34 1556.5,1225.86 1597.33,1236.53 1638.17,1248.1 1679,1294.04 1719.83,1294.75 1760.67,1354.02 1801.5,1366.18 1842.34,1373.58 \n",
       "  1883.17,1376.87 1924,1390.11 1964.84,1395.95 2005.67,1401.89 2046.5,1406.71 2087.34,1421.29 2128.17,1422.68 2169,1428.43 2209.84,1439.05 2250.67,1445.72 \n",
       "  \n",
       "  \"/>\n",
       "<path clip-path=\"url(#clip680)\" d=\"\n",
       "M1987.72 250.738 L2280.62 250.738 L2280.62 95.2176 L1987.72 95.2176  Z\n",
       "  \" fill=\"#ffffff\" fill-rule=\"evenodd\" fill-opacity=\"1\"/>\n",
       "<polyline clip-path=\"url(#clip680)\" style=\"stroke:#000000; stroke-linecap:butt; stroke-linejoin:round; stroke-width:4; stroke-opacity:1; fill:none\" points=\"\n",
       "  1987.72,250.738 2280.62,250.738 2280.62,95.2176 1987.72,95.2176 1987.72,250.738 \n",
       "  \"/>\n",
       "<polyline clip-path=\"url(#clip680)\" style=\"stroke:#009af9; stroke-linecap:butt; stroke-linejoin:round; stroke-width:4; stroke-opacity:1; fill:none\" points=\"\n",
       "  2011.77,147.058 2156.05,147.058 \n",
       "  \"/>\n",
       "<path clip-path=\"url(#clip680)\" d=\"M2193.94 166.745 Q2192.13 171.375 2190.42 172.787 Q2188.7 174.199 2185.83 174.199 L2182.43 174.199 L2182.43 170.634 L2184.93 170.634 Q2186.69 170.634 2187.66 169.8 Q2188.63 168.967 2189.82 165.865 L2190.58 163.921 L2180.09 138.412 L2184.61 138.412 L2192.71 158.689 L2200.81 138.412 L2205.32 138.412 L2193.94 166.745 Z\" fill=\"#000000\" fill-rule=\"evenodd\" fill-opacity=\"1\" /><path clip-path=\"url(#clip680)\" d=\"M2212.62 160.402 L2220.26 160.402 L2220.26 134.037 L2211.95 135.703 L2211.95 131.444 L2220.21 129.778 L2224.88 129.778 L2224.88 160.402 L2232.52 160.402 L2232.52 164.338 L2212.62 164.338 L2212.62 160.402 Z\" fill=\"#000000\" fill-rule=\"evenodd\" fill-opacity=\"1\" /><polyline clip-path=\"url(#clip680)\" style=\"stroke:#e26f46; stroke-linecap:butt; stroke-linejoin:round; stroke-width:4; stroke-opacity:1; fill:none\" points=\"\n",
       "  2011.77,198.898 2156.05,198.898 \n",
       "  \"/>\n",
       "<path clip-path=\"url(#clip680)\" d=\"M2193.94 218.585 Q2192.13 223.215 2190.42 224.627 Q2188.7 226.039 2185.83 226.039 L2182.43 226.039 L2182.43 222.474 L2184.93 222.474 Q2186.69 222.474 2187.66 221.64 Q2188.63 220.807 2189.82 217.705 L2190.58 215.761 L2180.09 190.252 L2184.61 190.252 L2192.71 210.529 L2200.81 190.252 L2205.32 190.252 L2193.94 218.585 Z\" fill=\"#000000\" fill-rule=\"evenodd\" fill-opacity=\"1\" /><path clip-path=\"url(#clip680)\" d=\"M2215.83 212.242 L2232.15 212.242 L2232.15 216.178 L2210.21 216.178 L2210.21 212.242 Q2212.87 209.488 2217.45 204.858 Q2222.06 200.205 2223.24 198.863 Q2225.49 196.34 2226.37 194.604 Q2227.27 192.844 2227.27 191.155 Q2227.27 188.4 2225.32 186.664 Q2223.4 184.928 2220.3 184.928 Q2218.1 184.928 2215.65 185.692 Q2213.22 186.455 2210.44 188.006 L2210.44 183.284 Q2213.26 182.15 2215.72 181.571 Q2218.17 180.993 2220.21 180.993 Q2225.58 180.993 2228.77 183.678 Q2231.97 186.363 2231.97 190.854 Q2231.97 192.983 2231.16 194.905 Q2230.37 196.803 2228.26 199.395 Q2227.69 200.067 2224.58 203.284 Q2221.48 206.479 2215.83 212.242 Z\" fill=\"#000000\" fill-rule=\"evenodd\" fill-opacity=\"1\" /></svg>\n"
      ]
     },
     "execution_count": 28,
     "metadata": {},
     "output_type": "execute_result"
    }
   ],
   "source": [
    "plot(2:51, errs, yaxis=:log10)\n",
    "true_svecs, true_svals = svd(truth_mat)\n",
    "plot!(1:50, true_svals[1:50]/true_svals[1], yaxis=:log10)\n"
   ]
  },
  {
   "cell_type": "code",
   "execution_count": null,
   "id": "d98a72f2",
   "metadata": {},
   "outputs": [],
   "source": []
  },
  {
   "cell_type": "code",
   "execution_count": null,
   "id": "a3d39435",
   "metadata": {},
   "outputs": [],
   "source": []
  },
  {
   "cell_type": "code",
   "execution_count": null,
   "id": "a8d11122",
   "metadata": {},
   "outputs": [],
   "source": []
  },
  {
   "cell_type": "code",
   "execution_count": null,
   "id": "165d04a8",
   "metadata": {},
   "outputs": [],
   "source": []
  },
  {
   "cell_type": "code",
   "execution_count": null,
   "id": "2318f845",
   "metadata": {},
   "outputs": [],
   "source": []
  },
  {
   "cell_type": "code",
   "execution_count": null,
   "id": "8bf302ef",
   "metadata": {},
   "outputs": [],
   "source": []
  },
  {
   "cell_type": "code",
   "execution_count": null,
   "id": "3bb6409a",
   "metadata": {},
   "outputs": [],
   "source": [
    "\n",
    "\n",
    "\n",
    "\n",
    "truth_mat  = mat_kern.(x_vecs, permutedims(x_vecs))\n",
    "guess = U_mat*V_mat\n",
    "error = norm(guess-truth_mat,2)/norm(truth_mat, 2)\n",
    "println(\"FKT Error: \", error)"
   ]
  },
  {
   "cell_type": "code",
   "execution_count": null,
   "id": "f7269398",
   "metadata": {},
   "outputs": [],
   "source": []
  },
  {
   "cell_type": "markdown",
   "id": "0ae666b5",
   "metadata": {},
   "source": [
    "# Generate trans table so we can generate orthogonal polynomials"
   ]
  },
  {
   "cell_type": "code",
   "execution_count": null,
   "id": "7e7ceddb",
   "metadata": {},
   "outputs": [],
   "source": [
    "weight = r^(d-1)\n",
    "polynomials = [Sym(1)]\n",
    "polynomials[1] /= sqrt(integrate(weight*(polynomials[1]^2), (r,0,b)))\n",
    "for i in 2:(fkt_deg+1)\n",
    "    current = r^(i-1)\n",
    "    for j in 1:(i-1)\n",
    "        current -= polynomials[j] * (integrate(weight*polynomials[j]*r^(i-1), (r, 0, b))\n",
    "                / integrate(weight*polynomials[j]^2, (r, 0, b)))\n",
    "    end\n",
    "    norm = sqrt(integrate(weight*current^2, (r,0,b)))\n",
    "    push!(polynomials, expand(current/norm))\n",
    "end\n",
    "l_polys = []\n",
    "for p in polynomials\n",
    "    push!(l_polys, lambdify(p, [r]))\n",
    "end\n",
    "\n",
    "B = zeros((fkt_deg+1),(fkt_deg+1))\n",
    "for i in 1:(fkt_deg+1)\n",
    "    for j in 1:(fkt_deg+1)\n",
    "        if j == 1\n",
    "            B[i,j] = subs(polynomials[i], r=>0)\n",
    "        else\n",
    "            B[i,j] = polynomials[i].coeff(r^(j-1))\n",
    "        end\n",
    "    end\n",
    "end\n",
    "Binv = inv(B)\n",
    "\n",
    "a_vals = zeros(fkt_deg+1) # kern's coefs in cheb poly basis\n",
    "for i in 0:(fkt_deg)\n",
    "    a_vals[i+1] = dct(lkern, i, b, dct_n)\n",
    "end\n",
    "pij = get_pij_table(fkt_deg+1)\n",
    "transtable = zeros(Float64, fkt_deg+1, fkt_deg+1, fkt_deg+1)\n",
    "for j in 0:dover2\n",
    "    for new_i in 0:(fkt_deg-j)\n",
    "        for n in j:(fkt_deg-max(new_i,j))\n",
    "            if mod(j+n, 2) != 0\n",
    "                continue\n",
    "            end\n",
    "            for m in max(new_i,j):(fkt_deg-n)\n",
    "                if mod(m+j, 2) != 0\n",
    "                    continue\n",
    "                end\n",
    "                for k3 in j:min(m,n)\n",
    "                    if mod(k3+n, 2) != 0\n",
    "                        continue\n",
    "                    end\n",
    "                    for i in (n+m):fkt_deg\n",
    "                        m1 = convert(Int,((n-k3)/2))\n",
    "                        m2 = convert(Int,((m-k3)/2))\n",
    "                    transtable[j+1, new_i+1, n+1] += (pij[i+1, n+m+1] # here\n",
    "                                        * a_vals[i+1]\n",
    "                                        *Binv[m+1, new_i+1]\n",
    "                                        * A(j, k3, 1//2)\n",
    "                                        *(1-delta(0,i)/2) # here\n",
    "                                        *multinomial([m1,m2,k3]...) #here\n",
    "                                        *((1.0/b)^(n+m)) #here\n",
    "                                        *((-2.0)^k3)) #here\n",
    "                    end\n",
    "                end\n",
    "            end\n",
    "        end\n",
    "    end\n",
    "end"
   ]
  },
  {
   "cell_type": "code",
   "execution_count": null,
   "id": "2a13d9dd",
   "metadata": {},
   "outputs": [],
   "source": [
    "polynomials"
   ]
  },
  {
   "cell_type": "code",
   "execution_count": null,
   "id": "de02f97e",
   "metadata": {},
   "outputs": [],
   "source": [
    "U_polys = Dict()\n",
    "V_polys = Dict()\n",
    "\n",
    "x = Sym(\"x\")\n",
    "# There is a u and v poly for every j, h, i\n",
    "# For now we will ignore the harmonics and just inject the delta\n",
    "for j in 0:dover2\n",
    "    for new_i in 0:(fkt_deg - j)\n",
    "        x_poly=0\n",
    "        for n in j:2:(fkt_deg-max(new_i,j))\n",
    "            x_poly += (x^n)*transtable[j+1, new_i+1, n+1]\n",
    "        end\n",
    "        U_polys[(j, new_i)] = x_poly\n",
    "        V_polys[(j, new_i)] = subs(polynomials[new_i+1], r=>x)\n",
    "    end\n",
    "end"
   ]
  },
  {
   "cell_type": "code",
   "execution_count": null,
   "id": "917e4f20",
   "metadata": {},
   "outputs": [],
   "source": [
    "integrations = Dict()\n",
    "for j in 0:dover2\n",
    "    N_k_alpha = gegenbauer_normalizer(d, j)\n",
    "    for new_i in 0:(fkt_deg - j)\n",
    "        for new_ip in 0:(fkt_deg - j)\n",
    "            prod_poly =  U_polys[(j, new_i)]*V_polys[(j, new_ip)]\n",
    "            integrations[(j, new_i, new_ip)] =  N_k_alpha*integrate(prod_poly*x^2, (x, 0,b))\n",
    "        end\n",
    "    end\n",
    "end"
   ]
  },
  {
   "cell_type": "code",
   "execution_count": null,
   "id": "4bfd4395",
   "metadata": {},
   "outputs": [],
   "source": [
    "pole_count = 0\n",
    "for j in 0:dover2\n",
    "    for h in 1:length(get_multiindices(d, j))\n",
    "        for new_i in 0:(fkt_deg - j)\n",
    "            pole_count += 1\n",
    "        end\n",
    "    end\n",
    "end"
   ]
  },
  {
   "cell_type": "code",
   "execution_count": null,
   "id": "abe24ccc",
   "metadata": {},
   "outputs": [],
   "source": [
    "Cmat = zeros(pole_count,pole_count)\n",
    "pole_count = 0\n",
    "integral_count=0\n",
    "for j in 0:dover2\n",
    "    for h in 1:length(get_multiindices(d, j))\n",
    "        for new_i in 0:(fkt_deg - j)\n",
    "            pole_count += 1\n",
    "            pole_countp = 0\n",
    "            for jp in 0:dover2\n",
    "                for hp in 1:length(get_multiindices(d, jp))\n",
    "                    for new_ip in 0:(fkt_deg - jp)\n",
    "                       pole_countp += 1\n",
    "                        if j != jp || h != hp \n",
    "                            continue\n",
    "                        end\n",
    "                        Cmat[pole_count, pole_countp] = integrations[(j, new_i, new_ip)]\n",
    "                    end\n",
    "                end\n",
    "            end\n",
    "        end\n",
    "    end\n",
    "end"
   ]
  },
  {
   "cell_type": "code",
   "execution_count": null,
   "id": "5daaf37e",
   "metadata": {},
   "outputs": [],
   "source": []
  },
  {
   "cell_type": "code",
   "execution_count": null,
   "id": "cab7e16c",
   "metadata": {},
   "outputs": [],
   "source": [
    "plt = plot()\n",
    "all_evals = []\n",
    "all_evecs = []\n",
    "for smaller_deg in 4:2:12\n",
    "    smaller_dover2 = convert(Int, smaller_deg/2)\n",
    "    smaller_pole_count = 0\n",
    "    for j in 0:smaller_dover2\n",
    "        for h in 1:length(get_multiindices(d, j))\n",
    "            for new_i in 0:(smaller_deg - j)\n",
    "                smaller_pole_count += 1\n",
    "            end\n",
    "        end\n",
    "    end\n",
    "    evals, evecs = eigen(Cmat[1:smaller_pole_count, 1:smaller_pole_count]);\n",
    "    push!(all_evals, evals)\n",
    "    push!(all_evecs, evecs)\n",
    "    eigenguess = transpose(V_mat)[:,1:size(evecs,1)]*evecs*diagm(evals)*conj(transpose(evecs))*conj(V_mat)[1:size(evecs,1),:]; \n",
    "    println(smaller_deg, \" \", norm(eigenguess-truth_mat)/norm(truth_mat))\n",
    "    \n",
    "    revevals = max.(1e-6, sort(abs.(real(evals)))[end:-1:1])\n",
    "    cap = min(60,length(revevals))\n",
    "    plot!(1:cap, revevals[1:cap]/revevals[1], yscale=:log10)\n",
    "end\n",
    "plt"
   ]
  },
  {
   "cell_type": "code",
   "execution_count": null,
   "id": "4a92c861",
   "metadata": {},
   "outputs": [],
   "source": [
    "# revevals = real(evals[end:-1:1])\n",
    "evals = all_evals[end]\n",
    "revevals = max.(1e-12, sort(abs.(real(evals)))[end:-1:1])\n",
    "\n",
    "plot(1:length(svals), real(svals)/real(svals[1]), label=\"svd\", yscale=:log10)\n",
    "plot!(1:length(revevals), real(revevals)/real(revevals[1]), label=\"ev\",yscale=:log10)"
   ]
  },
  {
   "cell_type": "code",
   "execution_count": null,
   "id": "48c6290e",
   "metadata": {},
   "outputs": [],
   "source": [
    "x_vecs1d = [randn()/8 for _ in 1:2000]\n",
    "truth_mat1d  = mat_kern.(x_vecs1d, permutedims(x_vecs1d))\n",
    "\n",
    "svecs1d, svals1d = svd(truth_mat1d);\n",
    "scatter(x_vecs1d, svecs1d[:, 1])\n",
    "scatter!(x_vecs1d, svecs1d[:, 2])\n",
    "scatter!(x_vecs1d, svecs1d[:, 3])\n",
    "scatter!(x_vecs1d, svecs1d[:, 4], xlim=(-b/2,b/2), ylim=(-0.05,0.05))\n",
    "# scatter!(x_vecs2d, svecs2d[:, 5], xlim=(-b/2,b/2), ylim=(-0.05,0.05))\n",
    "# scatter!(x_vecs2d, svecs2d[:, 6])\n"
   ]
  },
  {
   "cell_type": "code",
   "execution_count": null,
   "id": "392230d4",
   "metadata": {},
   "outputs": [],
   "source": [
    "othermat_kern(x,y) =exp(-norm(x-y)^2)\n",
    "\n",
    "othertruth_mat1d  = othermat_kern.(x_vecs1d, permutedims(x_vecs1d))\n",
    "\n",
    "othersvecs1d, othersvals1d = svd(othertruth_mat1d);\n",
    "scatter(x_vecs1d, othersvecs1d[:, 1])\n",
    "scatter!(x_vecs1d, othersvecs1d[:, 2])\n",
    "scatter!(x_vecs1d, othersvecs1d[:, 3])\n",
    "scatter!(x_vecs1d, othersvecs1d[:, 4], xlim=(-b/2,b/2), ylim=(-0.05,0.05))\n",
    "# scatter!(x_vecs2d, svecs2d[:, 5], xlim=(-b/2,b/2), ylim=(-0.05,0.05))\n",
    "# scatter!(x_vecs2d, svecs2d[:, 6])\n"
   ]
  },
  {
   "cell_type": "code",
   "execution_count": null,
   "id": "804abdaf",
   "metadata": {},
   "outputs": [],
   "source": [
    "\n",
    "for i in 1:length(x_vecs1d)\n",
    "    if abs(othersvecs1d[i, 3]) < 1e-4\n",
    "        println(x_vecs1d[i])\n",
    "    end\n",
    "end\n",
    "scatter(x_vecs1d, othersvecs1d[:, 3], label=\"true\")\n",
    "\n",
    "scatter!(x_vecs1d, \n",
    "    [1.1000114xv^2-0.016861549xv-0.015763104 for xv in x_vecs1d] , \n",
    "    ) #xlim = (-0.03,0.03),\n",
    "#     #ylim = (-0.03,0))\n",
    "\n"
   ]
  },
  {
   "cell_type": "code",
   "execution_count": null,
   "id": "145e5cda",
   "metadata": {},
   "outputs": [],
   "source": []
  },
  {
   "cell_type": "code",
   "execution_count": null,
   "id": "8c687bd9",
   "metadata": {},
   "outputs": [],
   "source": []
  },
  {
   "cell_type": "code",
   "execution_count": null,
   "id": "0ebce4af",
   "metadata": {},
   "outputs": [],
   "source": []
  },
  {
   "cell_type": "code",
   "execution_count": null,
   "id": "1fcfe3ed",
   "metadata": {},
   "outputs": [],
   "source": [
    "x_vecs2d = [randn(2)/8 for _ in 1:2000]\n",
    "truth_mat2d  = mat_kern.(x_vecs2d, permutedims(x_vecs2d))\n",
    "\n",
    "svecs2d, svals2d = svd(truth_mat2d);\n",
    "scatter([xv[1] for xv in x_vecs2d],[xv[2] for xv in x_vecs2d] , svecs2d[:, 1])\n"
   ]
  },
  {
   "cell_type": "code",
   "execution_count": null,
   "id": "a9cc071b",
   "metadata": {},
   "outputs": [],
   "source": [
    "scatter([xv[1] for xv in x_vecs2d],[xv[2] for xv in x_vecs2d] , svecs2d[:, 2], camera=(80,0))\n"
   ]
  },
  {
   "cell_type": "code",
   "execution_count": null,
   "id": "550b1cfb",
   "metadata": {},
   "outputs": [],
   "source": [
    "scatter([xv[1] for xv in x_vecs2d],[xv[2] for xv in x_vecs2d] , svecs2d[:, 3])\n"
   ]
  },
  {
   "cell_type": "code",
   "execution_count": null,
   "id": "02cc4dba",
   "metadata": {},
   "outputs": [],
   "source": [
    "scatter([xv[1] for xv in x_vecs2d],[xv[2] for xv in x_vecs2d] , svecs2d[:, 4])\n"
   ]
  },
  {
   "cell_type": "code",
   "execution_count": null,
   "id": "0291d959",
   "metadata": {},
   "outputs": [],
   "source": [
    "scatter([xv[1] for xv in x_vecs2d],[xv[2] for xv in x_vecs2d] , svecs2d[:, 5], camera=(0,0))\n"
   ]
  },
  {
   "cell_type": "code",
   "execution_count": null,
   "id": "30af4614",
   "metadata": {},
   "outputs": [],
   "source": [
    "scatter([xv[1] for xv in x_vecs2d],[xv[2] for xv in x_vecs2d] , svecs2d[:, 6], camera=(90,0))\n"
   ]
  },
  {
   "cell_type": "code",
   "execution_count": null,
   "id": "f514d78e",
   "metadata": {},
   "outputs": [],
   "source": [
    "evecs = all_evecs[end]"
   ]
  },
  {
   "cell_type": "code",
   "execution_count": null,
   "id": "b6a99b2e",
   "metadata": {},
   "outputs": [],
   "source": [
    "evalmag_to_evec = Dict()\n",
    "for i in 1:length(evals)\n",
    "    evalmag_to_evec[abs(evals[i])] = evecs[:,i]\n",
    "end\n",
    "sorted_evecs = sort(collect(evalmag_to_evec), by = x->x[1])[end:-1:1];"
   ]
  },
  {
   "cell_type": "code",
   "execution_count": null,
   "id": "e4ba7d60",
   "metadata": {},
   "outputs": [],
   "source": [
    "start_i = 1\n",
    "end_i = 5\n",
    "plt = plot(1:size(evecs,1), real(sorted_evecs[1][2]))\n",
    "for i in start_i+1:end_i\n",
    "    plt = plot!(1:size(evecs,1), real(sorted_evecs[i][2]), xlim=(0,200), legend=false)\n",
    "end\n",
    "plt"
   ]
  },
  {
   "cell_type": "code",
   "execution_count": null,
   "id": "8d284d1d",
   "metadata": {},
   "outputs": [],
   "source": [
    "sorted_evecs[2][2][37:50]"
   ]
  },
  {
   "cell_type": "code",
   "execution_count": null,
   "id": "9bf82705",
   "metadata": {},
   "outputs": [],
   "source": [
    "sorted_evecs[1][2][1:14]"
   ]
  },
  {
   "cell_type": "code",
   "execution_count": null,
   "id": "5fe501b8",
   "metadata": {},
   "outputs": [],
   "source": [
    "pole_count = 0\n",
    "for j in 0:dover2\n",
    "    for h in 1:length(get_multiindices(d, j))\n",
    "        for new_i in 0:(fkt_deg - j)\n",
    "            pole_count += 1\n",
    "            println(\"entry \",pole_count, \" is \", j,\",\", h,\",\", new_i)\n",
    "        end\n",
    "    end\n",
    "end"
   ]
  },
  {
   "cell_type": "code",
   "execution_count": null,
   "id": "1b7f7324",
   "metadata": {},
   "outputs": [],
   "source": [
    "\n",
    "\n",
    "generate the same singular function plots except using eigenfunctions from cheb expansion\n",
    "    (2d wrangling)"
   ]
  }
 ],
 "metadata": {
  "@webio": {
   "lastCommId": null,
   "lastKernelId": null
  },
  "kernelspec": {
   "display_name": "Julia 1.6.1",
   "language": "julia",
   "name": "julia-1.6"
  },
  "language_info": {
   "file_extension": ".jl",
   "mimetype": "application/julia",
   "name": "julia",
   "version": "1.6.1"
  }
 },
 "nbformat": 4,
 "nbformat_minor": 5
}
